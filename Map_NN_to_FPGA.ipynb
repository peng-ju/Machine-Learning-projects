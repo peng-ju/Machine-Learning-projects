{
  "cells": [
    {
      "cell_type": "markdown",
      "metadata": {
        "id": "v1mpKmr-or-P"
      },
      "source": [
        "## Setup"
      ]
    },
    {
      "cell_type": "code",
      "execution_count": null,
      "metadata": {
        "id": "owu47aPH4Jce"
      },
      "outputs": [],
      "source": [
        "from tensorflow.keras.utils import to_categorical\n",
        "from sklearn.datasets import fetch_openml\n",
        "from sklearn.model_selection import train_test_split\n",
        "from sklearn.preprocessing import LabelEncoder, StandardScaler\n",
        "import numpy as np\n",
        "%matplotlib inline\n",
        "seed = 0\n",
        "np.random.seed(seed)\n",
        "import tensorflow as tf\n",
        "tf.random.set_seed(seed)\n",
        "import os"
      ]
    },
    {
      "cell_type": "code",
      "execution_count": null,
      "metadata": {
        "colab": {
          "base_uri": "https://localhost:8080/"
        },
        "id": "x-4Ealtuor-P",
        "outputId": "c43e89b8-51a3-4910-95ac-1eadcc63734a"
      },
      "outputs": [
        {
          "name": "stdout",
          "output_type": "stream",
          "text": [
            "Looking in indexes: https://pypi.org/simple, https://us-python.pkg.dev/colab-wheels/public/simple/\n",
            "Collecting qkeras==0.9.0\n",
            "  Downloading QKeras-0.9.0-py3-none-any.whl (152 kB)\n",
            "\u001b[K     |████████████████████████████████| 152 kB 12.7 MB/s \n",
            "\u001b[?25hRequirement already satisfied: networkx>=2.1 in /usr/local/lib/python3.7/dist-packages (from qkeras==0.9.0) (2.6.3)\n",
            "Requirement already satisfied: setuptools>=41.0.0 in /usr/local/lib/python3.7/dist-packages (from qkeras==0.9.0) (57.4.0)\n",
            "Requirement already satisfied: tqdm>=4.48.0 in /usr/local/lib/python3.7/dist-packages (from qkeras==0.9.0) (4.64.1)\n",
            "Collecting keras-tuner>=1.0.1\n",
            "  Downloading keras_tuner-1.1.3-py3-none-any.whl (135 kB)\n",
            "\u001b[K     |████████████████████████████████| 135 kB 55.8 MB/s \n",
            "\u001b[?25hCollecting pyparser\n",
            "  Downloading pyparser-1.0.tar.gz (4.0 kB)\n",
            "Collecting tensorflow-model-optimization>=0.2.1\n",
            "  Downloading tensorflow_model_optimization-0.7.3-py2.py3-none-any.whl (238 kB)\n",
            "\u001b[K     |████████████████████████████████| 238 kB 61.3 MB/s \n",
            "\u001b[?25hRequirement already satisfied: scikit-learn>=0.23.1 in /usr/local/lib/python3.7/dist-packages (from qkeras==0.9.0) (1.0.2)\n",
            "Requirement already satisfied: scipy>=1.4.1 in /usr/local/lib/python3.7/dist-packages (from qkeras==0.9.0) (1.7.3)\n",
            "Requirement already satisfied: numpy>=1.16.0 in /usr/local/lib/python3.7/dist-packages (from qkeras==0.9.0) (1.21.6)\n",
            "Requirement already satisfied: requests in /usr/local/lib/python3.7/dist-packages (from keras-tuner>=1.0.1->qkeras==0.9.0) (2.23.0)\n",
            "Requirement already satisfied: packaging in /usr/local/lib/python3.7/dist-packages (from keras-tuner>=1.0.1->qkeras==0.9.0) (21.3)\n",
            "Requirement already satisfied: tensorboard in /usr/local/lib/python3.7/dist-packages (from keras-tuner>=1.0.1->qkeras==0.9.0) (2.9.1)\n",
            "Requirement already satisfied: ipython in /usr/local/lib/python3.7/dist-packages (from keras-tuner>=1.0.1->qkeras==0.9.0) (7.9.0)\n",
            "Collecting kt-legacy\n",
            "  Downloading kt_legacy-1.0.4-py3-none-any.whl (9.6 kB)\n",
            "Requirement already satisfied: threadpoolctl>=2.0.0 in /usr/local/lib/python3.7/dist-packages (from scikit-learn>=0.23.1->qkeras==0.9.0) (3.1.0)\n",
            "Requirement already satisfied: joblib>=0.11 in /usr/local/lib/python3.7/dist-packages (from scikit-learn>=0.23.1->qkeras==0.9.0) (1.2.0)\n",
            "Requirement already satisfied: six~=1.10 in /usr/local/lib/python3.7/dist-packages (from tensorflow-model-optimization>=0.2.1->qkeras==0.9.0) (1.15.0)\n",
            "Requirement already satisfied: dm-tree~=0.1.1 in /usr/local/lib/python3.7/dist-packages (from tensorflow-model-optimization>=0.2.1->qkeras==0.9.0) (0.1.7)\n",
            "Requirement already satisfied: decorator in /usr/local/lib/python3.7/dist-packages (from ipython->keras-tuner>=1.0.1->qkeras==0.9.0) (4.4.2)\n",
            "Collecting jedi>=0.10\n",
            "  Downloading jedi-0.18.1-py2.py3-none-any.whl (1.6 MB)\n",
            "\u001b[K     |████████████████████████████████| 1.6 MB 64.6 MB/s \n",
            "\u001b[?25hRequirement already satisfied: pygments in /usr/local/lib/python3.7/dist-packages (from ipython->keras-tuner>=1.0.1->qkeras==0.9.0) (2.6.1)\n",
            "Requirement already satisfied: traitlets>=4.2 in /usr/local/lib/python3.7/dist-packages (from ipython->keras-tuner>=1.0.1->qkeras==0.9.0) (5.1.1)\n",
            "Requirement already satisfied: pexpect in /usr/local/lib/python3.7/dist-packages (from ipython->keras-tuner>=1.0.1->qkeras==0.9.0) (4.8.0)\n",
            "Requirement already satisfied: backcall in /usr/local/lib/python3.7/dist-packages (from ipython->keras-tuner>=1.0.1->qkeras==0.9.0) (0.2.0)\n",
            "Requirement already satisfied: pickleshare in /usr/local/lib/python3.7/dist-packages (from ipython->keras-tuner>=1.0.1->qkeras==0.9.0) (0.7.5)\n",
            "Requirement already satisfied: prompt-toolkit<2.1.0,>=2.0.0 in /usr/local/lib/python3.7/dist-packages (from ipython->keras-tuner>=1.0.1->qkeras==0.9.0) (2.0.10)\n",
            "Requirement already satisfied: parso<0.9.0,>=0.8.0 in /usr/local/lib/python3.7/dist-packages (from jedi>=0.10->ipython->keras-tuner>=1.0.1->qkeras==0.9.0) (0.8.3)\n",
            "Requirement already satisfied: wcwidth in /usr/local/lib/python3.7/dist-packages (from prompt-toolkit<2.1.0,>=2.0.0->ipython->keras-tuner>=1.0.1->qkeras==0.9.0) (0.2.5)\n",
            "Requirement already satisfied: pyparsing!=3.0.5,>=2.0.2 in /usr/local/lib/python3.7/dist-packages (from packaging->keras-tuner>=1.0.1->qkeras==0.9.0) (3.0.9)\n",
            "Requirement already satisfied: ptyprocess>=0.5 in /usr/local/lib/python3.7/dist-packages (from pexpect->ipython->keras-tuner>=1.0.1->qkeras==0.9.0) (0.7.0)\n",
            "Collecting parse==1.6.5\n",
            "  Downloading parse-1.6.5.tar.gz (24 kB)\n",
            "Requirement already satisfied: urllib3!=1.25.0,!=1.25.1,<1.26,>=1.21.1 in /usr/local/lib/python3.7/dist-packages (from requests->keras-tuner>=1.0.1->qkeras==0.9.0) (1.24.3)\n",
            "Requirement already satisfied: certifi>=2017.4.17 in /usr/local/lib/python3.7/dist-packages (from requests->keras-tuner>=1.0.1->qkeras==0.9.0) (2022.9.24)\n",
            "Requirement already satisfied: idna<3,>=2.5 in /usr/local/lib/python3.7/dist-packages (from requests->keras-tuner>=1.0.1->qkeras==0.9.0) (2.10)\n",
            "Requirement already satisfied: chardet<4,>=3.0.2 in /usr/local/lib/python3.7/dist-packages (from requests->keras-tuner>=1.0.1->qkeras==0.9.0) (3.0.4)\n",
            "Requirement already satisfied: grpcio>=1.24.3 in /usr/local/lib/python3.7/dist-packages (from tensorboard->keras-tuner>=1.0.1->qkeras==0.9.0) (1.50.0)\n",
            "Requirement already satisfied: google-auth-oauthlib<0.5,>=0.4.1 in /usr/local/lib/python3.7/dist-packages (from tensorboard->keras-tuner>=1.0.1->qkeras==0.9.0) (0.4.6)\n",
            "Requirement already satisfied: protobuf<3.20,>=3.9.2 in /usr/local/lib/python3.7/dist-packages (from tensorboard->keras-tuner>=1.0.1->qkeras==0.9.0) (3.19.6)\n",
            "Requirement already satisfied: tensorboard-data-server<0.7.0,>=0.6.0 in /usr/local/lib/python3.7/dist-packages (from tensorboard->keras-tuner>=1.0.1->qkeras==0.9.0) (0.6.1)\n",
            "Requirement already satisfied: absl-py>=0.4 in /usr/local/lib/python3.7/dist-packages (from tensorboard->keras-tuner>=1.0.1->qkeras==0.9.0) (1.3.0)\n",
            "Requirement already satisfied: tensorboard-plugin-wit>=1.6.0 in /usr/local/lib/python3.7/dist-packages (from tensorboard->keras-tuner>=1.0.1->qkeras==0.9.0) (1.8.1)\n",
            "Requirement already satisfied: wheel>=0.26 in /usr/local/lib/python3.7/dist-packages (from tensorboard->keras-tuner>=1.0.1->qkeras==0.9.0) (0.38.3)\n",
            "Requirement already satisfied: google-auth<3,>=1.6.3 in /usr/local/lib/python3.7/dist-packages (from tensorboard->keras-tuner>=1.0.1->qkeras==0.9.0) (2.14.1)\n",
            "Requirement already satisfied: werkzeug>=1.0.1 in /usr/local/lib/python3.7/dist-packages (from tensorboard->keras-tuner>=1.0.1->qkeras==0.9.0) (1.0.1)\n",
            "Requirement already satisfied: markdown>=2.6.8 in /usr/local/lib/python3.7/dist-packages (from tensorboard->keras-tuner>=1.0.1->qkeras==0.9.0) (3.4.1)\n",
            "Requirement already satisfied: cachetools<6.0,>=2.0.0 in /usr/local/lib/python3.7/dist-packages (from google-auth<3,>=1.6.3->tensorboard->keras-tuner>=1.0.1->qkeras==0.9.0) (5.2.0)\n",
            "Requirement already satisfied: pyasn1-modules>=0.2.1 in /usr/local/lib/python3.7/dist-packages (from google-auth<3,>=1.6.3->tensorboard->keras-tuner>=1.0.1->qkeras==0.9.0) (0.2.8)\n",
            "Requirement already satisfied: rsa<5,>=3.1.4 in /usr/local/lib/python3.7/dist-packages (from google-auth<3,>=1.6.3->tensorboard->keras-tuner>=1.0.1->qkeras==0.9.0) (4.9)\n",
            "Requirement already satisfied: requests-oauthlib>=0.7.0 in /usr/local/lib/python3.7/dist-packages (from google-auth-oauthlib<0.5,>=0.4.1->tensorboard->keras-tuner>=1.0.1->qkeras==0.9.0) (1.3.1)\n",
            "Requirement already satisfied: importlib-metadata>=4.4 in /usr/local/lib/python3.7/dist-packages (from markdown>=2.6.8->tensorboard->keras-tuner>=1.0.1->qkeras==0.9.0) (4.13.0)\n",
            "Requirement already satisfied: typing-extensions>=3.6.4 in /usr/local/lib/python3.7/dist-packages (from importlib-metadata>=4.4->markdown>=2.6.8->tensorboard->keras-tuner>=1.0.1->qkeras==0.9.0) (4.1.1)\n",
            "Requirement already satisfied: zipp>=0.5 in /usr/local/lib/python3.7/dist-packages (from importlib-metadata>=4.4->markdown>=2.6.8->tensorboard->keras-tuner>=1.0.1->qkeras==0.9.0) (3.10.0)\n",
            "Requirement already satisfied: pyasn1<0.5.0,>=0.4.6 in /usr/local/lib/python3.7/dist-packages (from pyasn1-modules>=0.2.1->google-auth<3,>=1.6.3->tensorboard->keras-tuner>=1.0.1->qkeras==0.9.0) (0.4.8)\n",
            "Requirement already satisfied: oauthlib>=3.0.0 in /usr/local/lib/python3.7/dist-packages (from requests-oauthlib>=0.7.0->google-auth-oauthlib<0.5,>=0.4.1->tensorboard->keras-tuner>=1.0.1->qkeras==0.9.0) (3.2.2)\n",
            "Building wheels for collected packages: pyparser, parse\n",
            "  Building wheel for pyparser (setup.py) ... \u001b[?25l\u001b[?25hdone\n",
            "  Created wheel for pyparser: filename=pyparser-1.0-py3-none-any.whl size=4942 sha256=94bd8b65817bec5f570daece4078cfa9ce74e3443a52c2d2ec1a1ae6f8f6b54f\n",
            "  Stored in directory: /root/.cache/pip/wheels/84/80/fe/49e0cb63aba370d3ef38e733a2266c90a4d837921664320003\n",
            "  Building wheel for parse (setup.py) ... \u001b[?25l\u001b[?25hdone\n",
            "  Created wheel for parse: filename=parse-1.6.5-py3-none-any.whl size=18175 sha256=88dc3b4e2edcf251d6c21a1f4573641c7210e76ac98f1b54fa89396df3bd1a9a\n",
            "  Stored in directory: /root/.cache/pip/wheels/d3/d2/3e/3df86c4fd6ebac1348fbbda0a551e28cacf7301969935732dd\n",
            "Successfully built pyparser parse\n",
            "Installing collected packages: jedi, parse, kt-legacy, tensorflow-model-optimization, pyparser, keras-tuner, qkeras\n",
            "Successfully installed jedi-0.18.1 keras-tuner-1.1.3 kt-legacy-1.0.4 parse-1.6.5 pyparser-1.0 qkeras-0.9.0 tensorflow-model-optimization-0.7.3\n",
            "Looking in indexes: https://pypi.org/simple, https://us-python.pkg.dev/colab-wheels/public/simple/\n",
            "Collecting hls4ml\n",
            "  Downloading hls4ml-0.6.0-py3-none-any.whl (295 kB)\n",
            "\u001b[K     |████████████████████████████████| 295 kB 30.3 MB/s \n",
            "\u001b[?25hRequirement already satisfied: pyyaml in /usr/local/lib/python3.7/dist-packages (from hls4ml) (6.0)\n",
            "Requirement already satisfied: h5py in /usr/local/lib/python3.7/dist-packages (from hls4ml) (3.1.0)\n",
            "Requirement already satisfied: six in /usr/local/lib/python3.7/dist-packages (from hls4ml) (1.15.0)\n",
            "Collecting onnx>=1.4.0\n",
            "  Downloading onnx-1.12.0-cp37-cp37m-manylinux_2_17_x86_64.manylinux2014_x86_64.whl (13.1 MB)\n",
            "\u001b[K     |████████████████████████████████| 13.1 MB 46.0 MB/s \n",
            "\u001b[?25hRequirement already satisfied: numpy in /usr/local/lib/python3.7/dist-packages (from hls4ml) (1.21.6)\n",
            "Requirement already satisfied: protobuf<=3.20.1,>=3.12.2 in /usr/local/lib/python3.7/dist-packages (from onnx>=1.4.0->hls4ml) (3.19.6)\n",
            "Requirement already satisfied: typing-extensions>=3.6.2.1 in /usr/local/lib/python3.7/dist-packages (from onnx>=1.4.0->hls4ml) (4.1.1)\n",
            "Requirement already satisfied: cached-property in /usr/local/lib/python3.7/dist-packages (from h5py->hls4ml) (1.5.2)\n",
            "Installing collected packages: onnx, hls4ml\n",
            "Successfully installed hls4ml-0.6.0 onnx-1.12.0\n"
          ]
        }
      ],
      "source": [
        "! pip install qkeras==0.9.0\n",
        "! pip install hls4ml"
      ]
    },
    {
      "cell_type": "code",
      "execution_count": null,
      "metadata": {
        "colab": {
          "base_uri": "https://localhost:8080/",
          "height": 96
        },
        "id": "2uaPuYv6qz9h",
        "outputId": "f2d8a4eb-c082-493a-c5f7-8dd0a942f890"
      },
      "outputs": [
        {
          "data": {
            "text/html": [
              "\n",
              "     <input type=\"file\" id=\"files-09ec873e-1733-4067-b0f8-8463a8212aee\" name=\"files[]\" multiple disabled\n",
              "        style=\"border:none\" />\n",
              "     <output id=\"result-09ec873e-1733-4067-b0f8-8463a8212aee\">\n",
              "      Upload widget is only available when the cell has been executed in the\n",
              "      current browser session. Please rerun this cell to enable.\n",
              "      </output>\n",
              "      <script>// Copyright 2017 Google LLC\n",
              "//\n",
              "// Licensed under the Apache License, Version 2.0 (the \"License\");\n",
              "// you may not use this file except in compliance with the License.\n",
              "// You may obtain a copy of the License at\n",
              "//\n",
              "//      http://www.apache.org/licenses/LICENSE-2.0\n",
              "//\n",
              "// Unless required by applicable law or agreed to in writing, software\n",
              "// distributed under the License is distributed on an \"AS IS\" BASIS,\n",
              "// WITHOUT WARRANTIES OR CONDITIONS OF ANY KIND, either express or implied.\n",
              "// See the License for the specific language governing permissions and\n",
              "// limitations under the License.\n",
              "\n",
              "/**\n",
              " * @fileoverview Helpers for google.colab Python module.\n",
              " */\n",
              "(function(scope) {\n",
              "function span(text, styleAttributes = {}) {\n",
              "  const element = document.createElement('span');\n",
              "  element.textContent = text;\n",
              "  for (const key of Object.keys(styleAttributes)) {\n",
              "    element.style[key] = styleAttributes[key];\n",
              "  }\n",
              "  return element;\n",
              "}\n",
              "\n",
              "// Max number of bytes which will be uploaded at a time.\n",
              "const MAX_PAYLOAD_SIZE = 100 * 1024;\n",
              "\n",
              "function _uploadFiles(inputId, outputId) {\n",
              "  const steps = uploadFilesStep(inputId, outputId);\n",
              "  const outputElement = document.getElementById(outputId);\n",
              "  // Cache steps on the outputElement to make it available for the next call\n",
              "  // to uploadFilesContinue from Python.\n",
              "  outputElement.steps = steps;\n",
              "\n",
              "  return _uploadFilesContinue(outputId);\n",
              "}\n",
              "\n",
              "// This is roughly an async generator (not supported in the browser yet),\n",
              "// where there are multiple asynchronous steps and the Python side is going\n",
              "// to poll for completion of each step.\n",
              "// This uses a Promise to block the python side on completion of each step,\n",
              "// then passes the result of the previous step as the input to the next step.\n",
              "function _uploadFilesContinue(outputId) {\n",
              "  const outputElement = document.getElementById(outputId);\n",
              "  const steps = outputElement.steps;\n",
              "\n",
              "  const next = steps.next(outputElement.lastPromiseValue);\n",
              "  return Promise.resolve(next.value.promise).then((value) => {\n",
              "    // Cache the last promise value to make it available to the next\n",
              "    // step of the generator.\n",
              "    outputElement.lastPromiseValue = value;\n",
              "    return next.value.response;\n",
              "  });\n",
              "}\n",
              "\n",
              "/**\n",
              " * Generator function which is called between each async step of the upload\n",
              " * process.\n",
              " * @param {string} inputId Element ID of the input file picker element.\n",
              " * @param {string} outputId Element ID of the output display.\n",
              " * @return {!Iterable<!Object>} Iterable of next steps.\n",
              " */\n",
              "function* uploadFilesStep(inputId, outputId) {\n",
              "  const inputElement = document.getElementById(inputId);\n",
              "  inputElement.disabled = false;\n",
              "\n",
              "  const outputElement = document.getElementById(outputId);\n",
              "  outputElement.innerHTML = '';\n",
              "\n",
              "  const pickedPromise = new Promise((resolve) => {\n",
              "    inputElement.addEventListener('change', (e) => {\n",
              "      resolve(e.target.files);\n",
              "    });\n",
              "  });\n",
              "\n",
              "  const cancel = document.createElement('button');\n",
              "  inputElement.parentElement.appendChild(cancel);\n",
              "  cancel.textContent = 'Cancel upload';\n",
              "  const cancelPromise = new Promise((resolve) => {\n",
              "    cancel.onclick = () => {\n",
              "      resolve(null);\n",
              "    };\n",
              "  });\n",
              "\n",
              "  // Wait for the user to pick the files.\n",
              "  const files = yield {\n",
              "    promise: Promise.race([pickedPromise, cancelPromise]),\n",
              "    response: {\n",
              "      action: 'starting',\n",
              "    }\n",
              "  };\n",
              "\n",
              "  cancel.remove();\n",
              "\n",
              "  // Disable the input element since further picks are not allowed.\n",
              "  inputElement.disabled = true;\n",
              "\n",
              "  if (!files) {\n",
              "    return {\n",
              "      response: {\n",
              "        action: 'complete',\n",
              "      }\n",
              "    };\n",
              "  }\n",
              "\n",
              "  for (const file of files) {\n",
              "    const li = document.createElement('li');\n",
              "    li.append(span(file.name, {fontWeight: 'bold'}));\n",
              "    li.append(span(\n",
              "        `(${file.type || 'n/a'}) - ${file.size} bytes, ` +\n",
              "        `last modified: ${\n",
              "            file.lastModifiedDate ? file.lastModifiedDate.toLocaleDateString() :\n",
              "                                    'n/a'} - `));\n",
              "    const percent = span('0% done');\n",
              "    li.appendChild(percent);\n",
              "\n",
              "    outputElement.appendChild(li);\n",
              "\n",
              "    const fileDataPromise = new Promise((resolve) => {\n",
              "      const reader = new FileReader();\n",
              "      reader.onload = (e) => {\n",
              "        resolve(e.target.result);\n",
              "      };\n",
              "      reader.readAsArrayBuffer(file);\n",
              "    });\n",
              "    // Wait for the data to be ready.\n",
              "    let fileData = yield {\n",
              "      promise: fileDataPromise,\n",
              "      response: {\n",
              "        action: 'continue',\n",
              "      }\n",
              "    };\n",
              "\n",
              "    // Use a chunked sending to avoid message size limits. See b/62115660.\n",
              "    let position = 0;\n",
              "    do {\n",
              "      const length = Math.min(fileData.byteLength - position, MAX_PAYLOAD_SIZE);\n",
              "      const chunk = new Uint8Array(fileData, position, length);\n",
              "      position += length;\n",
              "\n",
              "      const base64 = btoa(String.fromCharCode.apply(null, chunk));\n",
              "      yield {\n",
              "        response: {\n",
              "          action: 'append',\n",
              "          file: file.name,\n",
              "          data: base64,\n",
              "        },\n",
              "      };\n",
              "\n",
              "      let percentDone = fileData.byteLength === 0 ?\n",
              "          100 :\n",
              "          Math.round((position / fileData.byteLength) * 100);\n",
              "      percent.textContent = `${percentDone}% done`;\n",
              "\n",
              "    } while (position < fileData.byteLength);\n",
              "  }\n",
              "\n",
              "  // All done.\n",
              "  yield {\n",
              "    response: {\n",
              "      action: 'complete',\n",
              "    }\n",
              "  };\n",
              "}\n",
              "\n",
              "scope.google = scope.google || {};\n",
              "scope.google.colab = scope.google.colab || {};\n",
              "scope.google.colab._files = {\n",
              "  _uploadFiles,\n",
              "  _uploadFilesContinue,\n",
              "};\n",
              "})(self);\n",
              "</script> "
            ],
            "text/plain": [
              "<IPython.core.display.HTML object>"
            ]
          },
          "metadata": {},
          "output_type": "display_data"
        },
        {
          "name": "stdout",
          "output_type": "stream",
          "text": [
            "Saving kaggle.json to kaggle.json\n"
          ]
        },
        {
          "data": {
            "text/plain": [
              "{'kaggle.json': b'{\"username\":\"pengju26\",\"key\":\"f68cf84e47d100be88bc6f44ed6d59d2\"}'}"
            ]
          },
          "execution_count": 3,
          "metadata": {},
          "output_type": "execute_result"
        }
      ],
      "source": [
        "from google.colab import files \n",
        "files.upload()"
      ]
    },
    {
      "cell_type": "code",
      "execution_count": null,
      "metadata": {
        "id": "eAfBEskPor-Q"
      },
      "outputs": [],
      "source": [
        "! mkdir ~/.kaggle\n",
        "! cp kaggle.json ~/.kaggle/\n",
        "! chmod 600 ~/.kaggle/kaggle.json"
      ]
    },
    {
      "cell_type": "code",
      "execution_count": null,
      "metadata": {
        "colab": {
          "base_uri": "https://localhost:8080/"
        },
        "id": "aLAcdREdq93R",
        "outputId": "79028e6a-857d-48c9-a66d-f5656162aa5f"
      },
      "outputs": [
        {
          "name": "stdout",
          "output_type": "stream",
          "text": [
            "Downloading higgs-boson.zip to /content\n",
            " 61% 33.0M/54.3M [00:00<00:00, 109MB/s] \n",
            "100% 54.3M/54.3M [00:00<00:00, 136MB/s]\n",
            "Archive:  higgs-boson.zip\n",
            "  inflating: higgs-boson/HiggsBosonCompetition_AMSMetric_rev1.py  \n",
            "  inflating: higgs-boson/random_submission.zip  \n",
            "  inflating: higgs-boson/test.zip    \n",
            "  inflating: higgs-boson/training.zip  \n",
            "Archive:  ./higgs-boson/training.zip\n",
            "  inflating: ./higgs-boson/training/training.csv  \n"
          ]
        }
      ],
      "source": [
        "\"\"\"\n",
        "Download the higgs boson data and unzip them\n",
        "\"\"\"\n",
        "! kaggle competitions download -c higgs-boson \n",
        "! unzip higgs-boson.zip -d higgs-boson\n",
        "! unzip ./higgs-boson/training.zip -d ./higgs-boson/training/"
      ]
    },
    {
      "cell_type": "code",
      "execution_count": null,
      "metadata": {
        "colab": {
          "base_uri": "https://localhost:8080/"
        },
        "id": "GWj8m-myrEev",
        "outputId": "3ea092de-f94a-4379-958b-493e0f7dc0d2"
      },
      "outputs": [
        {
          "name": "stdout",
          "output_type": "stream",
          "text": [
            "HiggsBosonCompetition_AMSMetric_rev1.py  test.zip  training.zip\n",
            "random_submission.zip\t\t\t training\n",
            "training.csv\n"
          ]
        }
      ],
      "source": [
        "\"\"\"\n",
        "Checking if everything went well\n",
        "\"\"\"\n",
        "! ls ./higgs-boson/\n",
        "! ls ./higgs-boson/training"
      ]
    },
    {
      "cell_type": "markdown",
      "metadata": {
        "id": "2_PDxeVLor-Q"
      },
      "source": [
        "## Preprocessing"
      ]
    },
    {
      "cell_type": "code",
      "execution_count": null,
      "metadata": {
        "colab": {
          "base_uri": "https://localhost:8080/"
        },
        "id": "bGl7Nc4zor-R",
        "outputId": "4a9bed9b-a28e-4500-b151-621def5e48d5"
      },
      "outputs": [
        {
          "name": "stdout",
          "output_type": "stream",
          "text": [
            "   EventId  DER_mass_MMC  DER_mass_transverse_met_lep  DER_mass_vis  DER_pt_h  \\\n",
            "0   100000       138.470                       51.655        97.827    27.980   \n",
            "1   100001       160.937                       68.768       103.235    48.146   \n",
            "2   100002      -999.000                      162.172       125.953    35.635   \n",
            "3   100003       143.905                       81.417        80.943     0.414   \n",
            "4   100004       175.864                       16.915       134.805    16.405   \n",
            "\n",
            "   DER_deltaeta_jet_jet  DER_mass_jet_jet  DER_prodeta_jet_jet  \\\n",
            "0                  0.91           124.711                2.666   \n",
            "1               -999.00          -999.000             -999.000   \n",
            "2               -999.00          -999.000             -999.000   \n",
            "3               -999.00          -999.000             -999.000   \n",
            "4               -999.00          -999.000             -999.000   \n",
            "\n",
            "   DER_deltar_tau_lep  DER_pt_tot  ...  PRI_jet_num  PRI_jet_leading_pt  \\\n",
            "0               3.064      41.928  ...            2              67.435   \n",
            "1               3.473       2.078  ...            1              46.226   \n",
            "2               3.148       9.336  ...            1              44.251   \n",
            "3               3.310       0.414  ...            0            -999.000   \n",
            "4               3.891      16.405  ...            0            -999.000   \n",
            "\n",
            "   PRI_jet_leading_eta  PRI_jet_leading_phi  PRI_jet_subleading_pt  \\\n",
            "0                2.150                0.444                 46.062   \n",
            "1                0.725                1.158               -999.000   \n",
            "2                2.053               -2.028               -999.000   \n",
            "3             -999.000             -999.000               -999.000   \n",
            "4             -999.000             -999.000               -999.000   \n",
            "\n",
            "   PRI_jet_subleading_eta  PRI_jet_subleading_phi  PRI_jet_all_pt    Weight  \\\n",
            "0                    1.24                  -2.475         113.497  0.002653   \n",
            "1                 -999.00                -999.000          46.226  2.233584   \n",
            "2                 -999.00                -999.000          44.251  2.347389   \n",
            "3                 -999.00                -999.000          -0.000  5.446378   \n",
            "4                 -999.00                -999.000           0.000  6.245333   \n",
            "\n",
            "   Label  \n",
            "0      s  \n",
            "1      b  \n",
            "2      b  \n",
            "3      b  \n",
            "4      b  \n",
            "\n",
            "[5 rows x 33 columns]\n"
          ]
        }
      ],
      "source": [
        "\"\"\"\n",
        "read the training csvs\n",
        "\"\"\"\n",
        "import pandas as pd\n",
        "import numpy as np\n",
        "\n",
        "df = pd.read_csv(\"./higgs-boson/training/training.csv\")\n",
        "print(df.head()) \n",
        "df = df.drop(columns=['EventId', 'Weight']) "
      ]
    },
    {
      "cell_type": "code",
      "execution_count": null,
      "metadata": {
        "colab": {
          "base_uri": "https://localhost:8080/"
        },
        "id": "Gp5x2WUpor-R",
        "outputId": "c6030c1f-3e6c-4d7c-d827-aafd1362b279"
      },
      "outputs": [
        {
          "name": "stdout",
          "output_type": "stream",
          "text": [
            "    DER_mass_MMC  DER_mass_transverse_met_lep  DER_mass_vis  DER_pt_h  \\\n",
            "0        138.470                       51.655        97.827    27.980   \n",
            "5         89.744                       13.550        59.149   116.344   \n",
            "6        148.754                       28.862       107.782   106.130   \n",
            "11       114.744                       10.286        75.712    30.816   \n",
            "23       141.481                        0.736       111.581   174.075   \n",
            "\n",
            "    DER_deltaeta_jet_jet  DER_mass_jet_jet  DER_prodeta_jet_jet  \\\n",
            "0                  0.910           124.711                2.666   \n",
            "5                  2.636           284.584               -0.540   \n",
            "6                  0.733           158.359                0.113   \n",
            "11                 2.563           252.599               -1.401   \n",
            "23                 1.955           364.344               -0.923   \n",
            "\n",
            "    DER_deltar_tau_lep  DER_pt_tot  DER_sum_pt  ...  PRI_met_sumet  \\\n",
            "0                3.064      41.928     197.760  ...        258.733   \n",
            "5                1.362      61.619     278.876  ...        282.849   \n",
            "6                2.941       2.545     305.967  ...        294.074   \n",
            "11               2.888      36.745     239.804  ...        290.547   \n",
            "23               1.335       6.663     440.859  ...        454.785   \n",
            "\n",
            "    PRI_jet_num  PRI_jet_leading_pt  PRI_jet_leading_eta  PRI_jet_leading_phi  \\\n",
            "0             2              67.435                2.150                0.444   \n",
            "5             3              90.547               -2.412               -0.653   \n",
            "6             2             123.010                0.864                1.450   \n",
            "11            3              76.773               -0.790                0.303   \n",
            "23            2             195.533                1.156                1.416   \n",
            "\n",
            "    PRI_jet_subleading_pt  PRI_jet_subleading_eta  PRI_jet_subleading_phi  \\\n",
            "0                  46.062                   1.240                  -2.475   \n",
            "5                  56.165                   0.224                   3.106   \n",
            "6                  56.867                   0.131                  -2.767   \n",
            "11                 56.876                   1.773                  -2.079   \n",
            "23                 82.477                  -0.798                  -2.785   \n",
            "\n",
            "    PRI_jet_all_pt  Label  \n",
            "0          113.497      s  \n",
            "5          193.660      b  \n",
            "6          179.877      s  \n",
            "11         165.640      b  \n",
            "23         278.009      s  \n",
            "\n",
            "[5 rows x 31 columns]\n"
          ]
        }
      ],
      "source": [
        "\"\"\"\n",
        "filter out bad values\n",
        "\"\"\"\n",
        "df = df.replace(-999.000, np.nan)\n",
        "df = df.dropna()\n",
        "print(df.head())"
      ]
    },
    {
      "cell_type": "code",
      "execution_count": null,
      "metadata": {
        "colab": {
          "base_uri": "https://localhost:8080/"
        },
        "id": "Oobpf1bFor-R",
        "outputId": "147fd9f8-76cd-428a-bc25-e94ff16f7e5d"
      },
      "outputs": [
        {
          "name": "stdout",
          "output_type": "stream",
          "text": [
            "X shape: (68114, 30)\n",
            "Y shape: (68114,)\n",
            "Y values b4: ['s' 'b' 's' ... 's' 's' 'b']\n",
            "False\n",
            "Y values after: [1 0 1 ... 1 1 0]\n"
          ]
        }
      ],
      "source": [
        "\"\"\"\n",
        "get rid of EventId column. Label column is y (output). Rest is X (input)\n",
        "\"\"\"\n",
        "X = df.iloc[:, :-1].to_numpy()\n",
        "Y = df.iloc[:, -1].to_numpy() # just get Label\n",
        "print(f\"X shape: {X.shape}\")\n",
        "print(f\"Y shape: {Y.shape}\")\n",
        "print(f\"Y values b4: {Y}\")\n",
        "# turn the signal and background to 1 and 0 respectively\n",
        "Y[Y == \"s\"] = 1\n",
        "Y[Y == \"b\"] = 0\n",
        "print(np.any(Y == \"s\") or np.any(Y == \"b\")) # check if there's any non number left\n",
        "print(f\"Y values after: {Y}\")\n",
        "Y = Y.astype('int32').reshape((-1,1))"
      ]
    },
    {
      "cell_type": "code",
      "execution_count": null,
      "metadata": {
        "colab": {
          "base_uri": "https://localhost:8080/"
        },
        "id": "xB0SfgtMor-S",
        "outputId": "4573f56c-d714-4f4f-d6aa-e7f01196bc59"
      },
      "outputs": [
        {
          "name": "stdout",
          "output_type": "stream",
          "text": [
            "X_train shape: (54491, 30)\n",
            "X_test shape: (13623, 30)\n",
            "Y_train shape: (54491, 1)\n",
            "Y_test shape: (13623, 1)\n"
          ]
        }
      ],
      "source": [
        "\"\"\"\n",
        "train test split.\n",
        "\"\"\"\n",
        "from sklearn.model_selection import train_test_split\n",
        "\n",
        "X_train, X_test, Y_train, Y_test = train_test_split(X, Y, test_size=0.20)\n",
        "\n",
        "print(f\"X_train shape: {X_train.shape}\")\n",
        "print(f\"X_test shape: {X_test.shape}\")\n",
        "print(f\"Y_train shape: {Y_train.shape}\")\n",
        "print(f\"Y_test shape: {Y_test.shape}\")"
      ]
    },
    {
      "cell_type": "markdown",
      "metadata": {
        "id": "x7P2RnIdor-T"
      },
      "source": [
        "## Model Definition and training + testing"
      ]
    },
    {
      "cell_type": "code",
      "execution_count": null,
      "metadata": {
        "id": "XmSDNcMMor-U"
      },
      "outputs": [],
      "source": [
        "\"\"\"\n",
        "Defining the DNN\n",
        "use qkeras for quantization, import a model\n",
        "made in the DNN demoin keras/tensforflow\n",
        "\"\"\"\n",
        "from tensorflow.keras.models import Sequential\n",
        "from tensorflow.keras.layers import Dense, Activation, BatchNormalization\n",
        "from tensorflow.keras.optimizers import Adam\n",
        "from tensorflow.keras.regularizers import l2\n",
        "import tensorflow.nn as nn\n",
        "\n",
        "input_dim = X_train.shape[-1]\n",
        "hidden_dim = 100\n",
        "n_hidden_layers = 3\n",
        "\n",
        "model = Sequential()\n",
        "model.add(BatchNormalization(input_shape=(input_dim,), name='norm'))\n",
        "model.add(Dense(hidden_dim, name='input_layer', kernel_regularizer=l2(0.0001)))\n",
        "\n",
        "for idx in range(n_hidden_layers): # hidden layers\n",
        "    model.add(Activation(activation=\"relu\", name=f'activation_{idx}'))\n",
        "    model.add(Dense(hidden_dim, name=f'fc{idx}', kernel_regularizer=l2(0.0001)))\n",
        "\n",
        "model.add(Activation(activation=\"relu\", name=f'activation_output'))\n",
        "model.add(Dense(1, name='output', kernel_regularizer=l2(0.0001)))\n",
        "model.add(Activation(activation='sigmoid', name='sigmoid'))"
      ]
    },
    {
      "cell_type": "code",
      "execution_count": null,
      "metadata": {
        "colab": {
          "base_uri": "https://localhost:8080/"
        },
        "id": "506sXiqwor-U",
        "outputId": "65921bd0-bd47-447f-eb07-2913fff61880"
      },
      "outputs": [
        {
          "name": "stdout",
          "output_type": "stream",
          "text": [
            "Epoch 1/30\n"
          ]
        },
        {
          "name": "stderr",
          "output_type": "stream",
          "text": [
            "/usr/local/lib/python3.7/dist-packages/keras/optimizers/optimizer_v2/adam.py:110: UserWarning: The `lr` argument is deprecated, use `learning_rate` instead.\n",
            "  super(Adam, self).__init__(name, **kwargs)\n"
          ]
        },
        {
          "name": "stdout",
          "output_type": "stream",
          "text": [
            "682/682 [==============================] - 3s 3ms/step - loss: 0.4558 - val_loss: 0.4115\n",
            "Epoch 2/30\n",
            "682/682 [==============================] - 2s 2ms/step - loss: 0.4115 - val_loss: 0.4295\n",
            "Epoch 3/30\n",
            "682/682 [==============================] - 2s 3ms/step - loss: 0.4037 - val_loss: 0.3939\n",
            "Epoch 4/30\n",
            "682/682 [==============================] - 2s 3ms/step - loss: 0.3956 - val_loss: 0.3912\n",
            "Epoch 5/30\n",
            "682/682 [==============================] - 2s 2ms/step - loss: 0.3907 - val_loss: 0.3867\n",
            "Epoch 6/30\n",
            "682/682 [==============================] - 2s 3ms/step - loss: 0.3823 - val_loss: 0.3839\n",
            "Epoch 7/30\n",
            "682/682 [==============================] - 2s 2ms/step - loss: 0.3820 - val_loss: 0.3822\n",
            "Epoch 8/30\n",
            "682/682 [==============================] - 2s 3ms/step - loss: 0.3792 - val_loss: 0.3769\n",
            "Epoch 9/30\n",
            "682/682 [==============================] - 2s 2ms/step - loss: 0.3791 - val_loss: 0.3802\n",
            "Epoch 10/30\n",
            "682/682 [==============================] - 2s 3ms/step - loss: 0.3727 - val_loss: 0.3766\n",
            "Epoch 11/30\n",
            "682/682 [==============================] - 3s 4ms/step - loss: 0.3714 - val_loss: 0.3779\n",
            "Epoch 12/30\n",
            "682/682 [==============================] - 2s 3ms/step - loss: 0.3692 - val_loss: 0.3745\n",
            "Epoch 13/30\n",
            "682/682 [==============================] - 2s 3ms/step - loss: 0.3691 - val_loss: 0.3746\n",
            "Epoch 14/30\n",
            "682/682 [==============================] - 2s 2ms/step - loss: 0.3646 - val_loss: 0.3777\n",
            "Epoch 15/30\n",
            "682/682 [==============================] - 2s 2ms/step - loss: 0.3662 - val_loss: 0.3823\n",
            "Epoch 16/30\n",
            "682/682 [==============================] - 2s 3ms/step - loss: 0.3633 - val_loss: 0.3860\n",
            "Epoch 17/30\n",
            "682/682 [==============================] - 2s 3ms/step - loss: 0.3597 - val_loss: 0.3749\n",
            "Epoch 18/30\n",
            "682/682 [==============================] - 3s 4ms/step - loss: 0.3595 - val_loss: 0.3766\n",
            "Epoch 19/30\n",
            "682/682 [==============================] - 2s 3ms/step - loss: 0.3595 - val_loss: 0.3764\n",
            "Epoch 20/30\n",
            "682/682 [==============================] - 2s 3ms/step - loss: 0.3582 - val_loss: 0.3876\n",
            "Epoch 21/30\n",
            "682/682 [==============================] - 2s 2ms/step - loss: 0.3577 - val_loss: 0.3790\n",
            "Epoch 22/30\n",
            "682/682 [==============================] - 2s 2ms/step - loss: 0.3551 - val_loss: 0.3800\n",
            "Epoch 23/30\n",
            "682/682 [==============================] - 2s 2ms/step - loss: 0.3561 - val_loss: 0.3788\n",
            "Epoch 24/30\n",
            "682/682 [==============================] - 2s 3ms/step - loss: 0.3523 - val_loss: 0.3838\n",
            "Epoch 25/30\n",
            "682/682 [==============================] - 2s 2ms/step - loss: 0.3534 - val_loss: 0.3836\n",
            "Epoch 26/30\n",
            "682/682 [==============================] - 2s 3ms/step - loss: 0.3518 - val_loss: 0.3803\n",
            "Epoch 27/30\n",
            "682/682 [==============================] - 2s 3ms/step - loss: 0.3533 - val_loss: 0.3813\n",
            "Epoch 28/30\n",
            "682/682 [==============================] - 2s 3ms/step - loss: 0.3501 - val_loss: 0.3837\n",
            "Epoch 29/30\n",
            "682/682 [==============================] - 2s 2ms/step - loss: 0.3504 - val_loss: 0.3835\n",
            "Epoch 30/30\n",
            "682/682 [==============================] - 2s 2ms/step - loss: 0.3478 - val_loss: 0.3845\n"
          ]
        },
        {
          "data": {
            "text/plain": [
              "<keras.callbacks.History at 0x7f6324963e10>"
            ]
          },
          "execution_count": 12,
          "metadata": {},
          "output_type": "execute_result"
        }
      ],
      "source": [
        "\"\"\"\n",
        "Training\n",
        "\"\"\"\n",
        "\n",
        "adam = Adam(lr=0.001)\n",
        "model.compile(optimizer=adam, loss=['binary_crossentropy'])\n",
        "model.fit(X_train, Y_train, batch_size=64,\n",
        "            epochs=30, validation_split=0.20, shuffle=True,\n",
        ") # fit makes batchnorm to be in training mode\n"
      ]
    },
    {
      "cell_type": "code",
      "execution_count": null,
      "metadata": {
        "colab": {
          "base_uri": "https://localhost:8080/",
          "height": 279
        },
        "id": "EU2xSC8Aor-V",
        "outputId": "c0e51b8b-0b0e-4ee0-c638-bc930e3320ae"
      },
      "outputs": [
        {
          "data": {
            "image/png": "[encoded data removed]",
            "text/plain": [
              "<Figure size 432x288 with 1 Axes>"
            ]
          },
          "metadata": {
            "needs_background": "light"
          },
          "output_type": "display_data"
        }
      ],
      "source": [
        "\"\"\"\n",
        "Testing phase\n",
        "\"\"\"\n",
        "from sklearn import metrics\n",
        "import matplotlib.pyplot as plt\n",
        "\n",
        "fpr, tpr, _ = metrics.roc_curve(Y_test,  model.predict(X_test, verbose=0))\n",
        "auc = metrics.roc_auc_score(Y_test, model.predict(X_test, verbose=0))\n",
        "  \n",
        "\n",
        "#create ROC curve\n",
        "plt.plot(fpr,tpr,label=\"AUC=\"+str(auc))\n",
        "plt.ylabel('True Positive Rate')\n",
        "plt.xlabel('False Positive Rate')\n",
        "plt.legend(loc=4)\n",
        "plt.show()"
      ]
    },
    {
      "attachments": {},
      "cell_type": "markdown",
      "metadata": {
        "id": "jWVOXWcGor-V"
      },
      "source": [
        "## HLS4ML Conversion\n",
        "\n",
        "Convert the python model into one that's ready for a conversion to HLS code usinig hls4ml.\n",
        "\n",
        "hls4ml related code based on https://github.com/fastmachinelearning/hls4ml-tutorial."
      ]
    },
    {
      "cell_type": "code",
      "execution_count": null,
      "metadata": {
        "colab": {
          "base_uri": "https://localhost:8080/"
        },
        "id": "Db2WFrMnor-V",
        "outputId": "4f6e5f33-29ff-4c20-8f17-a0add7eb5ff2"
      },
      "outputs": [
        {
          "name": "stdout",
          "output_type": "stream",
          "text": [
            "Interpreting Sequential\n",
            "Topology:\n",
            "Layer name: norm_input, layer type: Input\n",
            "Layer name: norm, layer type: BatchNormalization\n",
            "Layer name: input_layer, layer type: Dense\n",
            "  -> Activation (linear), layer name: input_layer\n",
            "Layer name: activation_0, layer type: Activation\n",
            "Layer name: fc0, layer type: Dense\n",
            "  -> Activation (linear), layer name: fc0\n",
            "Layer name: activation_1, layer type: Activation\n",
            "Layer name: fc1, layer type: Dense\n",
            "  -> Activation (linear), layer name: fc1\n",
            "Layer name: activation_2, layer type: Activation\n",
            "Layer name: fc2, layer type: Dense\n",
            "  -> Activation (linear), layer name: fc2\n",
            "Layer name: activation_output, layer type: Activation\n",
            "Layer name: output, layer type: Dense\n",
            "  -> Activation (linear), layer name: output\n",
            "Layer name: sigmoid, layer type: Activation\n",
            "Interpreting Sequential\n",
            "Topology:\n",
            "Layer name: norm_input, layer type: InputLayer, input shapes: [[None, 30]], output shape: [None, 30]\n",
            "Layer name: norm, layer type: BatchNormalization, input shapes: [[None, 30]], output shape: [None, 30]\n",
            "Layer name: input_layer, layer type: Dense, input shapes: [[None, 30]], output shape: [None, 100]\n",
            "Layer name: activation_0, layer type: Activation, input shapes: [[None, 100]], output shape: [None, 100]\n",
            "Layer name: fc0, layer type: Dense, input shapes: [[None, 100]], output shape: [None, 100]\n",
            "Layer name: activation_1, layer type: Activation, input shapes: [[None, 100]], output shape: [None, 100]\n",
            "Layer name: fc1, layer type: Dense, input shapes: [[None, 100]], output shape: [None, 100]\n",
            "Layer name: activation_2, layer type: Activation, input shapes: [[None, 100]], output shape: [None, 100]\n",
            "Layer name: fc2, layer type: Dense, input shapes: [[None, 100]], output shape: [None, 100]\n",
            "Layer name: activation_output, layer type: Activation, input shapes: [[None, 100]], output shape: [None, 100]\n",
            "Layer name: output, layer type: Dense, input shapes: [[None, 100]], output shape: [None, 1]\n",
            "Layer name: sigmoid, layer type: Activation, input shapes: [[None, 1]], output shape: [None, 1]\n",
            "Creating HLS model\n"
          ]
        }
      ],
      "source": [
        "\n",
        "import hls4ml\n",
        "config = hls4ml.utils.config_from_keras_model(model,\n",
        "                                     default_precision=\"ap_fixed<32,12>\",\n",
        "                                     granularity='model'\n",
        ")\n",
        "hls_model = hls4ml.converters.convert_from_keras_model(model,\n",
        "                                                       hls_config=config,\n",
        "                                                       output_dir='model_1/hls4ml_prj',\n",
        "                                                       part='xcu250-figd2104-2L-e'\n",
        ")"
      ]
    },
    {
      "cell_type": "code",
      "execution_count": null,
      "metadata": {
        "colab": {
          "base_uri": "https://localhost:8080/",
          "height": 1000
        },
        "id": "-ipWnRyhor-W",
        "outputId": "9625cc43-a700-4e45-fc60-221611b6b488"
      },
      "outputs": [
        {
          "data": {
            "image/png": "[encoded data removed]",
            "text/plain": [
              "<IPython.core.display.Image object>"
            ]
          },
          "execution_count": 15,
          "metadata": {},
          "output_type": "execute_result"
        }
      ],
      "source": [
        "hls4ml.utils.plot_model(hls_model, show_shapes=True, show_precision=True, to_file=None)"
      ]
    },
    {
      "cell_type": "code",
      "execution_count": null,
      "metadata": {
        "colab": {
          "base_uri": "https://localhost:8080/"
        },
        "id": "uRcoVohqor-X",
        "outputId": "4f448e67-cf95-45c7-ec3a-d06c478fdc16"
      },
      "outputs": [
        {
          "name": "stdout",
          "output_type": "stream",
          "text": [
            "Writing HLS project\n",
            "Done\n"
          ]
        }
      ],
      "source": [
        "\"\"\" \n",
        "Compile the hls model\n",
        "\"\"\" \n",
        "hls_model.compile()\n"
      ]
    },
    {
      "cell_type": "code",
      "execution_count": null,
      "metadata": {
        "colab": {
          "base_uri": "https://localhost:8080/",
          "height": 279
        },
        "id": "bl7TvPEHor-X",
        "outputId": "07d39716-1ee7-43d8-bdd9-8ad56d850c67"
      },
      "outputs": [
        {
          "data": {
            "image/png": "[encoded data removed]",
            "text/plain": [
              "<Figure size 432x288 with 1 Axes>"
            ]
          },
          "metadata": {
            "needs_background": "light"
          },
          "output_type": "display_data"
        }
      ],
      "source": [
        "\"\"\" \n",
        "make the ROC cure. Note that X for hls model needs to be in \n",
        "\"ascontiguousarray\" format first\n",
        "\"\"\" \n",
        "X_hls_test = np.ascontiguousarray(X_test)\n",
        "fpr, tpr, _ = metrics.roc_curve(Y_test, hls_model.predict(X_hls_test))\n",
        "auc = metrics.roc_auc_score(Y_test, hls_model.predict(X_hls_test))\n",
        "  \n",
        "\n",
        "#create ROC curve\n",
        "plt.plot(fpr,tpr,label=\"AUC=\"+str(auc))\n",
        "plt.ylabel('True Positive Rate')\n",
        "plt.xlabel('False Positive Rate')\n",
        "plt.legend(loc=4)\n",
        "plt.show()"
      ]
    },
    {
      "attachments": {},
      "cell_type": "markdown",
      "metadata": {
        "id": "rp8WPnGfor-X"
      },
      "source": [
        "# Post Training Quantization (PTQ)"
      ]
    },
    {
      "cell_type": "code",
      "execution_count": null,
      "metadata": {
        "colab": {
          "base_uri": "https://localhost:8080/"
        },
        "id": "azIvxN6For-Y",
        "outputId": "187fc937-cfc3-4f07-969a-86c06899b889"
      },
      "outputs": [
        {
          "name": "stdout",
          "output_type": "stream",
          "text": [
            "Interpreting Sequential\n",
            "Topology:\n",
            "Layer name: norm_input, layer type: Input\n",
            "Layer name: norm, layer type: BatchNormalization\n",
            "Layer name: input_layer, layer type: Dense\n",
            "  -> Activation (linear), layer name: input_layer\n",
            "Layer name: activation_0, layer type: Activation\n",
            "Layer name: fc0, layer type: Dense\n",
            "  -> Activation (linear), layer name: fc0\n",
            "Layer name: activation_1, layer type: Activation\n",
            "Layer name: fc1, layer type: Dense\n",
            "  -> Activation (linear), layer name: fc1\n",
            "Layer name: activation_2, layer type: Activation\n",
            "Layer name: fc2, layer type: Dense\n",
            "  -> Activation (linear), layer name: fc2\n",
            "Layer name: activation_output, layer type: Activation\n",
            "Layer name: output, layer type: Dense\n",
            "  -> Activation (linear), layer name: output\n",
            "Layer name: sigmoid, layer type: Activation\n",
            "Interpreting Sequential\n",
            "Topology:\n",
            "Layer name: norm_input, layer type: InputLayer, input shapes: [[None, 30]], output shape: [None, 30]\n",
            "Layer name: norm, layer type: BatchNormalization, input shapes: [[None, 30]], output shape: [None, 30]\n",
            "Layer name: input_layer, layer type: Dense, input shapes: [[None, 30]], output shape: [None, 100]\n",
            "Layer name: activation_0, layer type: Activation, input shapes: [[None, 100]], output shape: [None, 100]\n",
            "Layer name: fc0, layer type: Dense, input shapes: [[None, 100]], output shape: [None, 100]\n",
            "Layer name: activation_1, layer type: Activation, input shapes: [[None, 100]], output shape: [None, 100]\n",
            "Layer name: fc1, layer type: Dense, input shapes: [[None, 100]], output shape: [None, 100]\n",
            "Layer name: activation_2, layer type: Activation, input shapes: [[None, 100]], output shape: [None, 100]\n",
            "Layer name: fc2, layer type: Dense, input shapes: [[None, 100]], output shape: [None, 100]\n",
            "Layer name: activation_output, layer type: Activation, input shapes: [[None, 100]], output shape: [None, 100]\n",
            "Layer name: output, layer type: Dense, input shapes: [[None, 100]], output shape: [None, 1]\n",
            "Layer name: sigmoid, layer type: Activation, input shapes: [[None, 1]], output shape: [None, 1]\n",
            "Creating HLS model\n",
            "Writing HLS project\n",
            "Done\n",
            "Interpreting Sequential\n",
            "Topology:\n",
            "Layer name: norm_input, layer type: Input\n",
            "Layer name: norm, layer type: BatchNormalization\n",
            "Layer name: input_layer, layer type: Dense\n",
            "  -> Activation (linear), layer name: input_layer\n",
            "Layer name: activation_0, layer type: Activation\n",
            "Layer name: fc0, layer type: Dense\n",
            "  -> Activation (linear), layer name: fc0\n",
            "Layer name: activation_1, layer type: Activation\n",
            "Layer name: fc1, layer type: Dense\n",
            "  -> Activation (linear), layer name: fc1\n",
            "Layer name: activation_2, layer type: Activation\n",
            "Layer name: fc2, layer type: Dense\n",
            "  -> Activation (linear), layer name: fc2\n",
            "Layer name: activation_output, layer type: Activation\n",
            "Layer name: output, layer type: Dense\n",
            "  -> Activation (linear), layer name: output\n",
            "Layer name: sigmoid, layer type: Activation\n",
            "Interpreting Sequential\n",
            "Topology:\n",
            "Layer name: norm_input, layer type: InputLayer, input shapes: [[None, 30]], output shape: [None, 30]\n",
            "Layer name: norm, layer type: BatchNormalization, input shapes: [[None, 30]], output shape: [None, 30]\n",
            "Layer name: input_layer, layer type: Dense, input shapes: [[None, 30]], output shape: [None, 100]\n",
            "Layer name: activation_0, layer type: Activation, input shapes: [[None, 100]], output shape: [None, 100]\n",
            "Layer name: fc0, layer type: Dense, input shapes: [[None, 100]], output shape: [None, 100]\n",
            "Layer name: activation_1, layer type: Activation, input shapes: [[None, 100]], output shape: [None, 100]\n",
            "Layer name: fc1, layer type: Dense, input shapes: [[None, 100]], output shape: [None, 100]\n",
            "Layer name: activation_2, layer type: Activation, input shapes: [[None, 100]], output shape: [None, 100]\n",
            "Layer name: fc2, layer type: Dense, input shapes: [[None, 100]], output shape: [None, 100]\n",
            "Layer name: activation_output, layer type: Activation, input shapes: [[None, 100]], output shape: [None, 100]\n",
            "Layer name: output, layer type: Dense, input shapes: [[None, 100]], output shape: [None, 1]\n",
            "Layer name: sigmoid, layer type: Activation, input shapes: [[None, 1]], output shape: [None, 1]\n",
            "Creating HLS model\n",
            "Writing HLS project\n",
            "Done\n",
            "Interpreting Sequential\n",
            "Topology:\n",
            "Layer name: norm_input, layer type: Input\n",
            "Layer name: norm, layer type: BatchNormalization\n",
            "Layer name: input_layer, layer type: Dense\n",
            "  -> Activation (linear), layer name: input_layer\n",
            "Layer name: activation_0, layer type: Activation\n",
            "Layer name: fc0, layer type: Dense\n",
            "  -> Activation (linear), layer name: fc0\n",
            "Layer name: activation_1, layer type: Activation\n",
            "Layer name: fc1, layer type: Dense\n",
            "  -> Activation (linear), layer name: fc1\n",
            "Layer name: activation_2, layer type: Activation\n",
            "Layer name: fc2, layer type: Dense\n",
            "  -> Activation (linear), layer name: fc2\n",
            "Layer name: activation_output, layer type: Activation\n",
            "Layer name: output, layer type: Dense\n",
            "  -> Activation (linear), layer name: output\n",
            "Layer name: sigmoid, layer type: Activation\n",
            "Interpreting Sequential\n",
            "Topology:\n",
            "Layer name: norm_input, layer type: InputLayer, input shapes: [[None, 30]], output shape: [None, 30]\n",
            "Layer name: norm, layer type: BatchNormalization, input shapes: [[None, 30]], output shape: [None, 30]\n",
            "Layer name: input_layer, layer type: Dense, input shapes: [[None, 30]], output shape: [None, 100]\n",
            "Layer name: activation_0, layer type: Activation, input shapes: [[None, 100]], output shape: [None, 100]\n",
            "Layer name: fc0, layer type: Dense, input shapes: [[None, 100]], output shape: [None, 100]\n",
            "Layer name: activation_1, layer type: Activation, input shapes: [[None, 100]], output shape: [None, 100]\n",
            "Layer name: fc1, layer type: Dense, input shapes: [[None, 100]], output shape: [None, 100]\n",
            "Layer name: activation_2, layer type: Activation, input shapes: [[None, 100]], output shape: [None, 100]\n",
            "Layer name: fc2, layer type: Dense, input shapes: [[None, 100]], output shape: [None, 100]\n",
            "Layer name: activation_output, layer type: Activation, input shapes: [[None, 100]], output shape: [None, 100]\n",
            "Layer name: output, layer type: Dense, input shapes: [[None, 100]], output shape: [None, 1]\n",
            "Layer name: sigmoid, layer type: Activation, input shapes: [[None, 1]], output shape: [None, 1]\n",
            "Creating HLS model\n",
            "Writing HLS project\n",
            "Done\n",
            "Interpreting Sequential\n",
            "Topology:\n",
            "Layer name: norm_input, layer type: Input\n",
            "Layer name: norm, layer type: BatchNormalization\n",
            "Layer name: input_layer, layer type: Dense\n",
            "  -> Activation (linear), layer name: input_layer\n",
            "Layer name: activation_0, layer type: Activation\n",
            "Layer name: fc0, layer type: Dense\n",
            "  -> Activation (linear), layer name: fc0\n",
            "Layer name: activation_1, layer type: Activation\n",
            "Layer name: fc1, layer type: Dense\n",
            "  -> Activation (linear), layer name: fc1\n",
            "Layer name: activation_2, layer type: Activation\n",
            "Layer name: fc2, layer type: Dense\n",
            "  -> Activation (linear), layer name: fc2\n",
            "Layer name: activation_output, layer type: Activation\n",
            "Layer name: output, layer type: Dense\n",
            "  -> Activation (linear), layer name: output\n",
            "Layer name: sigmoid, layer type: Activation\n",
            "Interpreting Sequential\n",
            "Topology:\n",
            "Layer name: norm_input, layer type: InputLayer, input shapes: [[None, 30]], output shape: [None, 30]\n",
            "Layer name: norm, layer type: BatchNormalization, input shapes: [[None, 30]], output shape: [None, 30]\n",
            "Layer name: input_layer, layer type: Dense, input shapes: [[None, 30]], output shape: [None, 100]\n",
            "Layer name: activation_0, layer type: Activation, input shapes: [[None, 100]], output shape: [None, 100]\n",
            "Layer name: fc0, layer type: Dense, input shapes: [[None, 100]], output shape: [None, 100]\n",
            "Layer name: activation_1, layer type: Activation, input shapes: [[None, 100]], output shape: [None, 100]\n",
            "Layer name: fc1, layer type: Dense, input shapes: [[None, 100]], output shape: [None, 100]\n",
            "Layer name: activation_2, layer type: Activation, input shapes: [[None, 100]], output shape: [None, 100]\n",
            "Layer name: fc2, layer type: Dense, input shapes: [[None, 100]], output shape: [None, 100]\n",
            "Layer name: activation_output, layer type: Activation, input shapes: [[None, 100]], output shape: [None, 100]\n",
            "Layer name: output, layer type: Dense, input shapes: [[None, 100]], output shape: [None, 1]\n",
            "Layer name: sigmoid, layer type: Activation, input shapes: [[None, 1]], output shape: [None, 1]\n",
            "Creating HLS model\n",
            "Writing HLS project\n",
            "Done\n",
            "Interpreting Sequential\n",
            "Topology:\n",
            "Layer name: norm_input, layer type: Input\n",
            "Layer name: norm, layer type: BatchNormalization\n",
            "Layer name: input_layer, layer type: Dense\n",
            "  -> Activation (linear), layer name: input_layer\n",
            "Layer name: activation_0, layer type: Activation\n",
            "Layer name: fc0, layer type: Dense\n",
            "  -> Activation (linear), layer name: fc0\n",
            "Layer name: activation_1, layer type: Activation\n",
            "Layer name: fc1, layer type: Dense\n",
            "  -> Activation (linear), layer name: fc1\n",
            "Layer name: activation_2, layer type: Activation\n",
            "Layer name: fc2, layer type: Dense\n",
            "  -> Activation (linear), layer name: fc2\n",
            "Layer name: activation_output, layer type: Activation\n",
            "Layer name: output, layer type: Dense\n",
            "  -> Activation (linear), layer name: output\n",
            "Layer name: sigmoid, layer type: Activation\n",
            "Interpreting Sequential\n",
            "Topology:\n",
            "Layer name: norm_input, layer type: InputLayer, input shapes: [[None, 30]], output shape: [None, 30]\n",
            "Layer name: norm, layer type: BatchNormalization, input shapes: [[None, 30]], output shape: [None, 30]\n",
            "Layer name: input_layer, layer type: Dense, input shapes: [[None, 30]], output shape: [None, 100]\n",
            "Layer name: activation_0, layer type: Activation, input shapes: [[None, 100]], output shape: [None, 100]\n",
            "Layer name: fc0, layer type: Dense, input shapes: [[None, 100]], output shape: [None, 100]\n",
            "Layer name: activation_1, layer type: Activation, input shapes: [[None, 100]], output shape: [None, 100]\n",
            "Layer name: fc1, layer type: Dense, input shapes: [[None, 100]], output shape: [None, 100]\n",
            "Layer name: activation_2, layer type: Activation, input shapes: [[None, 100]], output shape: [None, 100]\n",
            "Layer name: fc2, layer type: Dense, input shapes: [[None, 100]], output shape: [None, 100]\n",
            "Layer name: activation_output, layer type: Activation, input shapes: [[None, 100]], output shape: [None, 100]\n",
            "Layer name: output, layer type: Dense, input shapes: [[None, 100]], output shape: [None, 1]\n",
            "Layer name: sigmoid, layer type: Activation, input shapes: [[None, 1]], output shape: [None, 1]\n",
            "Creating HLS model\n",
            "Writing HLS project\n",
            "Done\n"
          ]
        }
      ],
      "source": [
        "\"\"\"\n",
        "Parameter search over integer bits. Fractional bits frozen at 20    \n",
        "\"\"\"\n",
        "fract_bit = 20\n",
        "aurocs_int = []\n",
        "ap_fixed_configs_int = []\n",
        "\n",
        "for int_bit in range(10,15,1):\n",
        "    total_bit = int_bit + fract_bit\n",
        "    ap_fixed_config = f\"ap_fixed<{total_bit},{int_bit}>\"\n",
        "    config = hls4ml.utils.config_from_keras_model(model,\n",
        "                                        default_precision=ap_fixed_config,\n",
        "                                        granularity='model'\n",
        "    )\n",
        "    hls_model = hls4ml.converters.convert_from_keras_model(model,\n",
        "                                                        hls_config=config,\n",
        "                                                        output_dir='model_1/hls4ml_prj',\n",
        "                                                        part='xcu250-figd2104-2L-e'\n",
        "    )\n",
        "    hls_model.compile()\n",
        "    X_hls_test = np.ascontiguousarray(X_test)\n",
        "    auc = metrics.roc_auc_score(Y_test, hls_model.predict(X_hls_test))\n",
        "    aurocs_int.append(auc)\n",
        "    ap_fixed_configs_int.append(f\"<{total_bit},{int_bit}>\")\n",
        "    \n"
      ]
    },
    {
      "cell_type": "code",
      "execution_count": null,
      "metadata": {
        "colab": {
          "base_uri": "https://localhost:8080/",
          "height": 283
        },
        "id": "UpGTJzFaor-Y",
        "outputId": "c3cd66ec-0a8c-4643-b9bb-a0ebac3dd9cc"
      },
      "outputs": [
        {
          "data": {
            "text/plain": [
              "<matplotlib.collections.PathCollection at 0x7f62b332d510>"
            ]
          },
          "execution_count": 19,
          "metadata": {},
          "output_type": "execute_result"
        },
        {
          "data": {
            "image/png": "[encoded data removed]",
            "text/plain": [
              "<Figure size 432x288 with 1 Axes>"
            ]
          },
          "metadata": {
            "needs_background": "light"
          },
          "output_type": "display_data"
        }
      ],
      "source": [
        "plt.scatter(ap_fixed_configs_int, aurocs_int)"
      ]
    },
    {
      "cell_type": "markdown",
      "metadata": {
        "id": "4ccb-cNOor-Y"
      },
      "source": [
        "Looks like we don't lose performance until integer bit width = 13."
      ]
    },
    {
      "cell_type": "code",
      "execution_count": null,
      "metadata": {
        "colab": {
          "base_uri": "https://localhost:8080/"
        },
        "id": "FzpRbpbXor-Y",
        "outputId": "f2280f5b-05d5-4869-81e0-e96e035a021e"
      },
      "outputs": [
        {
          "name": "stdout",
          "output_type": "stream",
          "text": [
            "Interpreting Sequential\n",
            "Topology:\n",
            "Layer name: norm_input, layer type: Input\n",
            "Layer name: norm, layer type: BatchNormalization\n",
            "Layer name: input_layer, layer type: Dense\n",
            "  -> Activation (linear), layer name: input_layer\n",
            "Layer name: activation_0, layer type: Activation\n",
            "Layer name: fc0, layer type: Dense\n",
            "  -> Activation (linear), layer name: fc0\n",
            "Layer name: activation_1, layer type: Activation\n",
            "Layer name: fc1, layer type: Dense\n",
            "  -> Activation (linear), layer name: fc1\n",
            "Layer name: activation_2, layer type: Activation\n",
            "Layer name: fc2, layer type: Dense\n",
            "  -> Activation (linear), layer name: fc2\n",
            "Layer name: activation_output, layer type: Activation\n",
            "Layer name: output, layer type: Dense\n",
            "  -> Activation (linear), layer name: output\n",
            "Layer name: sigmoid, layer type: Activation\n",
            "Interpreting Sequential\n",
            "Topology:\n",
            "Layer name: norm_input, layer type: InputLayer, input shapes: [[None, 30]], output shape: [None, 30]\n",
            "Layer name: norm, layer type: BatchNormalization, input shapes: [[None, 30]], output shape: [None, 30]\n",
            "Layer name: input_layer, layer type: Dense, input shapes: [[None, 30]], output shape: [None, 100]\n",
            "Layer name: activation_0, layer type: Activation, input shapes: [[None, 100]], output shape: [None, 100]\n",
            "Layer name: fc0, layer type: Dense, input shapes: [[None, 100]], output shape: [None, 100]\n",
            "Layer name: activation_1, layer type: Activation, input shapes: [[None, 100]], output shape: [None, 100]\n",
            "Layer name: fc1, layer type: Dense, input shapes: [[None, 100]], output shape: [None, 100]\n",
            "Layer name: activation_2, layer type: Activation, input shapes: [[None, 100]], output shape: [None, 100]\n",
            "Layer name: fc2, layer type: Dense, input shapes: [[None, 100]], output shape: [None, 100]\n",
            "Layer name: activation_output, layer type: Activation, input shapes: [[None, 100]], output shape: [None, 100]\n",
            "Layer name: output, layer type: Dense, input shapes: [[None, 100]], output shape: [None, 1]\n",
            "Layer name: sigmoid, layer type: Activation, input shapes: [[None, 1]], output shape: [None, 1]\n",
            "Creating HLS model\n",
            "Writing HLS project\n",
            "Done\n",
            "Interpreting Sequential\n",
            "Topology:\n",
            "Layer name: norm_input, layer type: Input\n",
            "Layer name: norm, layer type: BatchNormalization\n",
            "Layer name: input_layer, layer type: Dense\n",
            "  -> Activation (linear), layer name: input_layer\n",
            "Layer name: activation_0, layer type: Activation\n",
            "Layer name: fc0, layer type: Dense\n",
            "  -> Activation (linear), layer name: fc0\n",
            "Layer name: activation_1, layer type: Activation\n",
            "Layer name: fc1, layer type: Dense\n",
            "  -> Activation (linear), layer name: fc1\n",
            "Layer name: activation_2, layer type: Activation\n",
            "Layer name: fc2, layer type: Dense\n",
            "  -> Activation (linear), layer name: fc2\n",
            "Layer name: activation_output, layer type: Activation\n",
            "Layer name: output, layer type: Dense\n",
            "  -> Activation (linear), layer name: output\n",
            "Layer name: sigmoid, layer type: Activation\n",
            "Interpreting Sequential\n",
            "Topology:\n",
            "Layer name: norm_input, layer type: InputLayer, input shapes: [[None, 30]], output shape: [None, 30]\n",
            "Layer name: norm, layer type: BatchNormalization, input shapes: [[None, 30]], output shape: [None, 30]\n",
            "Layer name: input_layer, layer type: Dense, input shapes: [[None, 30]], output shape: [None, 100]\n",
            "Layer name: activation_0, layer type: Activation, input shapes: [[None, 100]], output shape: [None, 100]\n",
            "Layer name: fc0, layer type: Dense, input shapes: [[None, 100]], output shape: [None, 100]\n",
            "Layer name: activation_1, layer type: Activation, input shapes: [[None, 100]], output shape: [None, 100]\n",
            "Layer name: fc1, layer type: Dense, input shapes: [[None, 100]], output shape: [None, 100]\n",
            "Layer name: activation_2, layer type: Activation, input shapes: [[None, 100]], output shape: [None, 100]\n",
            "Layer name: fc2, layer type: Dense, input shapes: [[None, 100]], output shape: [None, 100]\n",
            "Layer name: activation_output, layer type: Activation, input shapes: [[None, 100]], output shape: [None, 100]\n",
            "Layer name: output, layer type: Dense, input shapes: [[None, 100]], output shape: [None, 1]\n",
            "Layer name: sigmoid, layer type: Activation, input shapes: [[None, 1]], output shape: [None, 1]\n",
            "Creating HLS model\n",
            "Writing HLS project\n",
            "Done\n",
            "Interpreting Sequential\n",
            "Topology:\n",
            "Layer name: norm_input, layer type: Input\n",
            "Layer name: norm, layer type: BatchNormalization\n",
            "Layer name: input_layer, layer type: Dense\n",
            "  -> Activation (linear), layer name: input_layer\n",
            "Layer name: activation_0, layer type: Activation\n",
            "Layer name: fc0, layer type: Dense\n",
            "  -> Activation (linear), layer name: fc0\n",
            "Layer name: activation_1, layer type: Activation\n",
            "Layer name: fc1, layer type: Dense\n",
            "  -> Activation (linear), layer name: fc1\n",
            "Layer name: activation_2, layer type: Activation\n",
            "Layer name: fc2, layer type: Dense\n",
            "  -> Activation (linear), layer name: fc2\n",
            "Layer name: activation_output, layer type: Activation\n",
            "Layer name: output, layer type: Dense\n",
            "  -> Activation (linear), layer name: output\n",
            "Layer name: sigmoid, layer type: Activation\n",
            "Interpreting Sequential\n",
            "Topology:\n",
            "Layer name: norm_input, layer type: InputLayer, input shapes: [[None, 30]], output shape: [None, 30]\n",
            "Layer name: norm, layer type: BatchNormalization, input shapes: [[None, 30]], output shape: [None, 30]\n",
            "Layer name: input_layer, layer type: Dense, input shapes: [[None, 30]], output shape: [None, 100]\n",
            "Layer name: activation_0, layer type: Activation, input shapes: [[None, 100]], output shape: [None, 100]\n",
            "Layer name: fc0, layer type: Dense, input shapes: [[None, 100]], output shape: [None, 100]\n",
            "Layer name: activation_1, layer type: Activation, input shapes: [[None, 100]], output shape: [None, 100]\n",
            "Layer name: fc1, layer type: Dense, input shapes: [[None, 100]], output shape: [None, 100]\n",
            "Layer name: activation_2, layer type: Activation, input shapes: [[None, 100]], output shape: [None, 100]\n",
            "Layer name: fc2, layer type: Dense, input shapes: [[None, 100]], output shape: [None, 100]\n",
            "Layer name: activation_output, layer type: Activation, input shapes: [[None, 100]], output shape: [None, 100]\n",
            "Layer name: output, layer type: Dense, input shapes: [[None, 100]], output shape: [None, 1]\n",
            "Layer name: sigmoid, layer type: Activation, input shapes: [[None, 1]], output shape: [None, 1]\n",
            "Creating HLS model\n",
            "Writing HLS project\n",
            "Done\n",
            "Interpreting Sequential\n",
            "Topology:\n",
            "Layer name: norm_input, layer type: Input\n",
            "Layer name: norm, layer type: BatchNormalization\n",
            "Layer name: input_layer, layer type: Dense\n",
            "  -> Activation (linear), layer name: input_layer\n",
            "Layer name: activation_0, layer type: Activation\n",
            "Layer name: fc0, layer type: Dense\n",
            "  -> Activation (linear), layer name: fc0\n",
            "Layer name: activation_1, layer type: Activation\n",
            "Layer name: fc1, layer type: Dense\n",
            "  -> Activation (linear), layer name: fc1\n",
            "Layer name: activation_2, layer type: Activation\n",
            "Layer name: fc2, layer type: Dense\n",
            "  -> Activation (linear), layer name: fc2\n",
            "Layer name: activation_output, layer type: Activation\n",
            "Layer name: output, layer type: Dense\n",
            "  -> Activation (linear), layer name: output\n",
            "Layer name: sigmoid, layer type: Activation\n",
            "Interpreting Sequential\n",
            "Topology:\n",
            "Layer name: norm_input, layer type: InputLayer, input shapes: [[None, 30]], output shape: [None, 30]\n",
            "Layer name: norm, layer type: BatchNormalization, input shapes: [[None, 30]], output shape: [None, 30]\n",
            "Layer name: input_layer, layer type: Dense, input shapes: [[None, 30]], output shape: [None, 100]\n",
            "Layer name: activation_0, layer type: Activation, input shapes: [[None, 100]], output shape: [None, 100]\n",
            "Layer name: fc0, layer type: Dense, input shapes: [[None, 100]], output shape: [None, 100]\n",
            "Layer name: activation_1, layer type: Activation, input shapes: [[None, 100]], output shape: [None, 100]\n",
            "Layer name: fc1, layer type: Dense, input shapes: [[None, 100]], output shape: [None, 100]\n",
            "Layer name: activation_2, layer type: Activation, input shapes: [[None, 100]], output shape: [None, 100]\n",
            "Layer name: fc2, layer type: Dense, input shapes: [[None, 100]], output shape: [None, 100]\n",
            "Layer name: activation_output, layer type: Activation, input shapes: [[None, 100]], output shape: [None, 100]\n",
            "Layer name: output, layer type: Dense, input shapes: [[None, 100]], output shape: [None, 1]\n",
            "Layer name: sigmoid, layer type: Activation, input shapes: [[None, 1]], output shape: [None, 1]\n",
            "Creating HLS model\n",
            "Writing HLS project\n",
            "Done\n",
            "Interpreting Sequential\n",
            "Topology:\n",
            "Layer name: norm_input, layer type: Input\n",
            "Layer name: norm, layer type: BatchNormalization\n",
            "Layer name: input_layer, layer type: Dense\n",
            "  -> Activation (linear), layer name: input_layer\n",
            "Layer name: activation_0, layer type: Activation\n",
            "Layer name: fc0, layer type: Dense\n",
            "  -> Activation (linear), layer name: fc0\n",
            "Layer name: activation_1, layer type: Activation\n",
            "Layer name: fc1, layer type: Dense\n",
            "  -> Activation (linear), layer name: fc1\n",
            "Layer name: activation_2, layer type: Activation\n",
            "Layer name: fc2, layer type: Dense\n",
            "  -> Activation (linear), layer name: fc2\n",
            "Layer name: activation_output, layer type: Activation\n",
            "Layer name: output, layer type: Dense\n",
            "  -> Activation (linear), layer name: output\n",
            "Layer name: sigmoid, layer type: Activation\n",
            "Interpreting Sequential\n",
            "Topology:\n",
            "Layer name: norm_input, layer type: InputLayer, input shapes: [[None, 30]], output shape: [None, 30]\n",
            "Layer name: norm, layer type: BatchNormalization, input shapes: [[None, 30]], output shape: [None, 30]\n",
            "Layer name: input_layer, layer type: Dense, input shapes: [[None, 30]], output shape: [None, 100]\n",
            "Layer name: activation_0, layer type: Activation, input shapes: [[None, 100]], output shape: [None, 100]\n",
            "Layer name: fc0, layer type: Dense, input shapes: [[None, 100]], output shape: [None, 100]\n",
            "Layer name: activation_1, layer type: Activation, input shapes: [[None, 100]], output shape: [None, 100]\n",
            "Layer name: fc1, layer type: Dense, input shapes: [[None, 100]], output shape: [None, 100]\n",
            "Layer name: activation_2, layer type: Activation, input shapes: [[None, 100]], output shape: [None, 100]\n",
            "Layer name: fc2, layer type: Dense, input shapes: [[None, 100]], output shape: [None, 100]\n",
            "Layer name: activation_output, layer type: Activation, input shapes: [[None, 100]], output shape: [None, 100]\n",
            "Layer name: output, layer type: Dense, input shapes: [[None, 100]], output shape: [None, 1]\n",
            "Layer name: sigmoid, layer type: Activation, input shapes: [[None, 1]], output shape: [None, 1]\n",
            "Creating HLS model\n",
            "Writing HLS project\n",
            "Done\n"
          ]
        }
      ],
      "source": [
        "\"\"\"\n",
        "Parameter search over fractional bits. Integer bits frozen at 14    \n",
        "\"\"\"\n",
        "int_bit = 14\n",
        "aurocs_fract = []\n",
        "ap_fixed_configs_fract = []\n",
        "\n",
        "for fract_bit in range(8,13,1):\n",
        "    total_bit = int_bit + fract_bit\n",
        "    ap_fixed_config = f\"ap_fixed<{total_bit},{int_bit}>\"\n",
        "    config = hls4ml.utils.config_from_keras_model(model,\n",
        "                                        default_precision=ap_fixed_config,\n",
        "                                        granularity='model'\n",
        "    )\n",
        "    hls_model = hls4ml.converters.convert_from_keras_model(model,\n",
        "                                                        hls_config=config,\n",
        "                                                        output_dir='model_1/hls4ml_prj',\n",
        "                                                        part='xcu250-figd2104-2L-e'\n",
        "    )\n",
        "    hls_model.compile()\n",
        "    X_hls_test = np.ascontiguousarray(X_test)\n",
        "    auc = metrics.roc_auc_score(Y_test, hls_model.predict(X_hls_test))\n",
        "    aurocs_fract.append(auc)\n",
        "    ap_fixed_configs_fract.append(f\"<{total_bit},{int_bit}>\")\n",
        "    \n"
      ]
    },
    {
      "cell_type": "code",
      "execution_count": null,
      "metadata": {
        "colab": {
          "base_uri": "https://localhost:8080/",
          "height": 282
        },
        "id": "44DQWnlcor-Z",
        "outputId": "93d4d876-e393-4b66-e96b-9f364a25fee6"
      },
      "outputs": [
        {
          "data": {
            "text/plain": [
              "<matplotlib.collections.PathCollection at 0x7f62b2f90850>"
            ]
          },
          "execution_count": 21,
          "metadata": {},
          "output_type": "execute_result"
        },
        {
          "data": {
            "image/png": "[encoded data removed]",
            "text/plain": [
              "<Figure size 432x288 with 1 Axes>"
            ]
          },
          "metadata": {
            "needs_background": "light"
          },
          "output_type": "display_data"
        }
      ],
      "source": [
        "plt.scatter(ap_fixed_configs_fract, aurocs_fract)"
      ]
    },
    {
      "attachments": {},
      "cell_type": "markdown",
      "metadata": {
        "id": "GN6lRaWaor-Z"
      },
      "source": [
        "## Quantization Aware Training + Pruning\n",
        "\n",
        "AutoQKeras code based on https://github.com/google/qkeras/blob/master/notebook/"
      ]
    },
    {
      "cell_type": "code",
      "execution_count": null,
      "metadata": {
        "colab": {
          "base_uri": "https://localhost:8080/"
        },
        "id": "K74t3Vm6or-a",
        "outputId": "f4ad5f8e-cc1b-432a-d240-50c1647826a8"
      },
      "outputs": [
        {
          "name": "stderr",
          "output_type": "stream",
          "text": [
            "WARNING:tensorflow:From /usr/local/lib/python3.7/dist-packages/qkeras/qtools/qgraph.py:189: Tensor.experimental_ref (from tensorflow.python.framework.ops) is deprecated and will be removed in a future version.\n",
            "Instructions for updating:\n",
            "Use ref() instead.\n"
          ]
        },
        {
          "name": "stdout",
          "output_type": "stream",
          "text": [
            "{'activation_0': {'energy': {'inputs': 190.19,\n",
            "                             'op_cost': 0.0,\n",
            "                             'outputs': 190.19,\n",
            "                             'parameters': 0.0},\n",
            "                  'total': 190.19},\n",
            " 'activation_1': {'energy': {'inputs': 190.19,\n",
            "                             'op_cost': 0.0,\n",
            "                             'outputs': 190.19,\n",
            "                             'parameters': 0.0},\n",
            "                  'total': 190.19},\n",
            " 'activation_2': {'energy': {'inputs': 190.19,\n",
            "                             'op_cost': 0.0,\n",
            "                             'outputs': 190.19,\n",
            "                             'parameters': 0.0},\n",
            "                  'total': 190.19},\n",
            " 'activation_output': {'energy': {'inputs': 190.19,\n",
            "                                  'op_cost': 0.0,\n",
            "                                  'outputs': 190.19,\n",
            "                                  'parameters': 0.0},\n",
            "                       'total': 190.19},\n",
            " 'fc0': {'energy': {'inputs': 190.19,\n",
            "                    'op_cost': 46000.0,\n",
            "                    'outputs': 190.19,\n",
            "                    'parameters': 19209.14},\n",
            "         'total': 65399.33},\n",
            " 'fc1': {'energy': {'inputs': 190.19,\n",
            "                    'op_cost': 46000.0,\n",
            "                    'outputs': 190.19,\n",
            "                    'parameters': 19209.14},\n",
            "         'total': 65399.33},\n",
            " 'fc2': {'energy': {'inputs': 190.19,\n",
            "                    'op_cost': 46000.0,\n",
            "                    'outputs': 190.19,\n",
            "                    'parameters': 19209.14},\n",
            "         'total': 65399.33},\n",
            " 'input_layer': {'energy': {'inputs': 57.06,\n",
            "                            'op_cost': 13800.0,\n",
            "                            'outputs': 190.19,\n",
            "                            'parameters': 5895.87},\n",
            "                 'total': 19752.93},\n",
            " 'norm': {'energy': {'inputs': 15.22,\n",
            "                     'op_cost': 222.0,\n",
            "                     'outputs': 3.8,\n",
            "                     'parameters': 228.23},\n",
            "          'total': 228.23},\n",
            " 'output': {'energy': {'inputs': 190.19,\n",
            "                       'op_cost': 460.0,\n",
            "                       'outputs': 3.8,\n",
            "                       'parameters': 193.99},\n",
            "            'total': 844.1800000000001},\n",
            " 'sigmoid': {'energy': {'inputs': 3.8,\n",
            "                        'op_cost': 0.0,\n",
            "                        'outputs': 3.8,\n",
            "                        'parameters': 0.0},\n",
            "             'total': 3.8}}\n",
            "\n",
            "Total energy: 0.22 uJ\n"
          ]
        }
      ],
      "source": [
        "\"\"\" \n",
        "setup for AutoQKeras.\n",
        "\"\"\"\n",
        "\n",
        "import json\n",
        "import pprint\n",
        "import numpy as np\n",
        "import tempfile\n",
        "from qkeras.autoqkeras import *\n",
        "from qkeras import *\n",
        "from qkeras.utils import model_quantize\n",
        "from qkeras.qtools import run_qtools\n",
        "from qkeras.qtools import settings as qtools_settings\n",
        "from tensorflow.keras.initializers import *\n",
        "from tensorflow.keras.layers import *\n",
        "from tensorflow.keras.models import Model\n",
        "from tensorflow.keras.optimizers import *\n",
        "\n",
        "reference_internal = \"fp32\"\n",
        "reference_accumulator = \"fp32\"\n",
        "\n",
        "q = run_qtools.QTools(\n",
        "    model,\n",
        "    # energy calculation using a given process\n",
        "    # \"horowitz\" refers to 45nm process published at\n",
        "    # M. Horowitz, \"1.1 Computing's energy problem (and what we can do about\n",
        "    # it), \"2014 IEEE International Solid-State Circuits Conference Digest of\n",
        "    # Technical Papers (ISSCC), San Francisco, CA, 2014, pp. 10-14, \n",
        "    # doi: 10.1109/ISSCC.2014.6757323.\n",
        "    process=\"horowitz\",\n",
        "    # quantizers for model input\n",
        "    source_quantizers=[quantized_bits(8, 0, 1)],\n",
        "    is_inference=False,\n",
        "    # absolute path (including filename) of the model weights\n",
        "    # in the future, we will attempt to optimize the power model\n",
        "    # by using weight information, although it can be used to further\n",
        "    # optimize QBatchNormalization.\n",
        "    weights_path=None,\n",
        "    # keras_quantizer to quantize weight/bias in un-quantized keras layers\n",
        "    keras_quantizer=reference_internal,\n",
        "    # keras_quantizer to quantize MAC in un-quantized keras layers\n",
        "    keras_accumulator=reference_accumulator,\n",
        "    # whether calculate baseline energy\n",
        "    for_reference=True)\n",
        "  \n",
        "# caculate energy of the derived data type map.\n",
        "energy_dict = q.pe(\n",
        "    # whether to store parameters in dram, sram, or fixed\n",
        "    weights_on_memory=\"sram\",\n",
        "    # store activations in dram or sram\n",
        "    activations_on_memory=\"sram\",\n",
        "    # minimum sram size in number of bits. Let's assume a 16MB SRAM.\n",
        "    min_sram_size=8*16*1024*1024,\n",
        "    # whether load data from dram to sram (consider sram as a cache\n",
        "    # for dram. If false, we will assume data will be already in SRAM\n",
        "    rd_wr_on_io=False)\n",
        "\n",
        "# get stats of energy distribution in each layer\n",
        "energy_profile = q.extract_energy_profile(\n",
        "    qtools_settings.cfg.include_energy, energy_dict)\n",
        "# extract sum of energy of each layer according to the rule specified in\n",
        "# qtools_settings.cfg.include_energy\n",
        "total_energy = q.extract_energy_sum(\n",
        "    qtools_settings.cfg.include_energy, energy_dict)\n",
        "\n",
        "pprint.pprint(energy_profile)\n",
        "print()\n",
        "print(\"Total energy: {:.2f} uJ\".format(total_energy / 1000000.0))"
      ]
    },
    {
      "cell_type": "code",
      "execution_count": null,
      "metadata": {
        "colab": {
          "base_uri": "https://localhost:8080/"
        },
        "id": "WBVfTj32or-a",
        "outputId": "0d5fe239-cb00-4dac-f8e6-8eaa9115c974"
      },
      "outputs": [
        {
          "name": "stdout",
          "output_type": "stream",
          "text": [
            "quantizing layers: ['input_layer', 'activation_0', 'fc0', 'activation_1', 'fc1', 'activation_2', 'fc2', 'activation_output', 'output']\n"
          ]
        }
      ],
      "source": [
        "\"\"\"\n",
        "List of configs for AutoQKeras \n",
        "\"\"\"\n",
        "quantization_config = {\n",
        "        \"kernel\": {\n",
        "                \"binary\": 1,\n",
        "                \"stochastic_binary\": 1,\n",
        "                \"ternary\": 2,\n",
        "                \"stochastic_ternary\": 2,\n",
        "                \"quantized_bits(2,1,1,alpha=1.0)\": 2,\n",
        "                \"quantized_bits(4,0,1,alpha=1.0)\": 4,\n",
        "                \"quantized_bits(8,0,1,alpha=1.0)\": 8,\n",
        "                \"quantized_po2(4,1)\": 4\n",
        "        },\n",
        "        \"bias\": {\n",
        "                \"quantized_bits(4,0,1)\": 4,\n",
        "                \"quantized_bits(8,3,1)\": 8,\n",
        "                \"quantized_po2(4,8)\": 4\n",
        "        },\n",
        "        \"activation\": {\n",
        "                \"binary\": 1,\n",
        "                \"ternary\": 2,\n",
        "                \"quantized_relu_po2(4,4)\": 4,\n",
        "                \"quantized_relu(3,1)\": 3,\n",
        "                \"quantized_relu(4,2)\": 4,\n",
        "                \"quantized_relu(8,2)\": 8,\n",
        "                \"quantized_relu(8,4)\": 8,\n",
        "                \"quantized_relu(16,8)\": 16\n",
        "        },\n",
        "        \"linear\": {\n",
        "                \"binary\": 1,\n",
        "                \"ternary\": 2,\n",
        "                \"quantized_bits(4,1)\": 4,\n",
        "                \"quantized_bits(8,2)\": 8,\n",
        "                \"quantized_bits(16,10)\": 16\n",
        "        }\n",
        "}\n",
        "\n",
        "limit = {\n",
        "    \"Dense\": [8, 8, 4],\n",
        "    \"Activation\": [4],\n",
        "    \"BatchNormalization\": []\n",
        "}\n",
        "goal = {\n",
        "    \"type\": \"energy\",\n",
        "    \"params\": {\n",
        "        \"delta_p\": 8.0,\n",
        "        \"delta_n\": 8.0,\n",
        "        \"rate\": 2.0,\n",
        "        \"stress\": 1.0,\n",
        "        \"process\": \"horowitz\",\n",
        "        \"parameters_on_memory\": [\"sram\", \"sram\"],\n",
        "        \"activations_on_memory\": [\"sram\", \"sram\"],\n",
        "        \"rd_wr_on_io\": [False, False],\n",
        "        \"min_sram_size\": [0, 0],\n",
        "        \"source_quantizers\": [\"int8\"],\n",
        "        \"reference_internal\": \"int8\",\n",
        "        \"reference_accumulator\": \"int32\"\n",
        "        }\n",
        "}\n",
        "\n",
        "\n",
        "run_config = {\n",
        "  \"output_dir\": tempfile.mkdtemp(),\n",
        "  \"goal\": goal,\n",
        "  \"quantization_config\": quantization_config,\n",
        "  \"learning_rate_optimizer\": False,\n",
        "  \"transfer_weights\": False,\n",
        "  \"mode\": \"random\",\n",
        "  \"seed\": 42,\n",
        "  \"limit\": limit,\n",
        "  \"tune_filters\": \"layer\",\n",
        "  \"tune_filters_exceptions\": \"^dense\",\n",
        "  # \"distribution_strategy\": cur_strategy,\n",
        "  # first layer is input, layer two layers are softmax and flatten\n",
        "  \"layer_indexes\": range(1, len(model.layers) - 1),\n",
        "  \"max_trials\": 3\n",
        "}\n",
        "\n",
        "print(\"quantizing layers:\", [model.layers[i].name for i in run_config[\"layer_indexes\"]])"
      ]
    },
    {
      "cell_type": "code",
      "execution_count": null,
      "metadata": {
        "colab": {
          "base_uri": "https://localhost:8080/"
        },
        "id": "mSOyIRgfor-a",
        "outputId": "28225c44-3c3b-40f8-9017-3f15e741e7f8"
      },
      "outputs": [
        {
          "name": "stdout",
          "output_type": "stream",
          "text": [
            "Limit configuration:{\"Dense\": [8, 8, 4], \"Activation\": [4], \"BatchNormalization\": []}\n",
            "learning_rate: 0.0010000000474974513\n",
            "Model: \"sequential\"\n",
            "_________________________________________________________________\n",
            " Layer (type)                Output Shape              Param #   \n",
            "=================================================================\n",
            " norm (BatchNormalization)   (None, 30)                120       \n",
            "                                                                 \n",
            " input_layer (QDense)        (None, 100)               3100      \n",
            "                                                                 \n",
            " activation_0 (QActivation)  (None, 100)               0         \n",
            "                                                                 \n",
            " fc0 (QDense)                (None, 100)               10100     \n",
            "                                                                 \n",
            " activation_1 (QActivation)  (None, 100)               0         \n",
            "                                                                 \n",
            " fc1 (QDense)                (None, 100)               10100     \n",
            "                                                                 \n",
            " activation_2 (QActivation)  (None, 100)               0         \n",
            "                                                                 \n",
            " fc2 (QDense)                (None, 100)               10100     \n",
            "                                                                 \n",
            " activation_output (QActivat  (None, 100)              0         \n",
            " ion)                                                            \n",
            "                                                                 \n",
            " output (QDense)             (None, 1)                 101       \n",
            "                                                                 \n",
            " sigmoid (Activation)        (None, 1)                 0         \n",
            "                                                                 \n",
            "=================================================================\n",
            "Total params: 33,621\n",
            "Trainable params: 33,561\n",
            "Non-trainable params: 60\n",
            "_________________________________________________________________\n",
            "stats: delta_p=0.08 delta_n=0.08 rate=2.0 trial_size=1327 reference_size=30040\n",
            "       delta=36.01%\n",
            "Total Cost Reduction:\n",
            "       1327 vs 30040 (-95.58%)\n",
            "norm                 is normal keras bn layer\n",
            "input_layer          u=100 binary(alpha='auto_po2') quantized_bits(4,0,1) \n",
            "activation_0         binary\n",
            "fc0                  u=100 binary(alpha='auto_po2') quantized_bits(4,0,1) \n",
            "activation_1         binary\n",
            "fc1                  u=100 binary(alpha='auto_po2') quantized_bits(4,0,1) \n",
            "activation_2         binary\n",
            "fc2                  u=100 binary(alpha='auto_po2') quantized_bits(4,0,1) \n",
            "activation_output    binary\n",
            "output               u=1 binary(alpha='auto_po2') quantized_bits(4,0,1) \n",
            "\n",
            "Search space summary\n",
            "Default search space size: 19\n",
            "input_layer_kernel_quantizer (Choice)\n",
            "{'default': 'binary', 'conditions': [], 'values': ['binary', 'stochastic_binary', 'ternary', 'stochastic_ternary', 'quantized_bits(2,1,1,alpha=1.0)', 'quantized_bits(4,0,1,alpha=1.0)', 'quantized_bits(8,0,1,alpha=1.0)', 'quantized_po2(4,1)'], 'ordered': False}\n",
            "fc0_kernel_quantizer (Choice)\n",
            "{'default': 'binary', 'conditions': [], 'values': ['binary', 'stochastic_binary', 'ternary', 'stochastic_ternary', 'quantized_bits(2,1,1,alpha=1.0)', 'quantized_bits(4,0,1,alpha=1.0)', 'quantized_bits(8,0,1,alpha=1.0)', 'quantized_po2(4,1)'], 'ordered': False}\n",
            "fc1_kernel_quantizer (Choice)\n",
            "{'default': 'binary', 'conditions': [], 'values': ['binary', 'stochastic_binary', 'ternary', 'stochastic_ternary', 'quantized_bits(2,1,1,alpha=1.0)', 'quantized_bits(4,0,1,alpha=1.0)', 'quantized_bits(8,0,1,alpha=1.0)', 'quantized_po2(4,1)'], 'ordered': False}\n",
            "fc2_kernel_quantizer (Choice)\n",
            "{'default': 'binary', 'conditions': [], 'values': ['binary', 'stochastic_binary', 'ternary', 'stochastic_ternary', 'quantized_bits(2,1,1,alpha=1.0)', 'quantized_bits(4,0,1,alpha=1.0)', 'quantized_bits(8,0,1,alpha=1.0)', 'quantized_po2(4,1)'], 'ordered': False}\n",
            "output_kernel_quantizer (Choice)\n",
            "{'default': 'binary', 'conditions': [], 'values': ['binary', 'stochastic_binary', 'ternary', 'stochastic_ternary', 'quantized_bits(2,1,1,alpha=1.0)', 'quantized_bits(4,0,1,alpha=1.0)', 'quantized_bits(8,0,1,alpha=1.0)', 'quantized_po2(4,1)'], 'ordered': False}\n",
            "network_filters_input_layer (Choice)\n",
            "{'default': 1.0, 'conditions': [], 'values': [0.5, 0.75, 1.0, 1.5, 2.0], 'ordered': True}\n",
            "input_layer_bias_quantizer (Choice)\n",
            "{'default': 'quantized_bits(4,0,1)', 'conditions': [], 'values': ['quantized_bits(4,0,1)', 'quantized_bits(8,3,1)', 'quantized_po2(4,8)'], 'ordered': False}\n",
            "activation_0_activation_quantizer (Choice)\n",
            "{'default': 'binary', 'conditions': [], 'values': ['binary', 'ternary', 'quantized_relu_po2(4,4)', 'quantized_relu(3,1)', 'quantized_relu(4,2)'], 'ordered': False}\n",
            "network_filters_fc0 (Choice)\n",
            "{'default': 1.0, 'conditions': [], 'values': [0.5, 0.75, 1.0, 1.5, 2.0], 'ordered': True}\n",
            "fc0_bias_quantizer (Choice)\n",
            "{'default': 'quantized_bits(4,0,1)', 'conditions': [], 'values': ['quantized_bits(4,0,1)', 'quantized_bits(8,3,1)', 'quantized_po2(4,8)'], 'ordered': False}\n",
            "activation_1_activation_quantizer (Choice)\n",
            "{'default': 'binary', 'conditions': [], 'values': ['binary', 'ternary', 'quantized_relu_po2(4,4)', 'quantized_relu(3,1)', 'quantized_relu(4,2)'], 'ordered': False}\n",
            "network_filters_fc1 (Choice)\n",
            "{'default': 1.0, 'conditions': [], 'values': [0.5, 0.75, 1.0, 1.5, 2.0], 'ordered': True}\n",
            "fc1_bias_quantizer (Choice)\n",
            "{'default': 'quantized_bits(4,0,1)', 'conditions': [], 'values': ['quantized_bits(4,0,1)', 'quantized_bits(8,3,1)', 'quantized_po2(4,8)'], 'ordered': False}\n",
            "activation_2_activation_quantizer (Choice)\n",
            "{'default': 'binary', 'conditions': [], 'values': ['binary', 'ternary', 'quantized_relu_po2(4,4)', 'quantized_relu(3,1)', 'quantized_relu(4,2)'], 'ordered': False}\n",
            "network_filters_fc2 (Choice)\n",
            "{'default': 1.0, 'conditions': [], 'values': [0.5, 0.75, 1.0, 1.5, 2.0], 'ordered': True}\n",
            "fc2_bias_quantizer (Choice)\n",
            "{'default': 'quantized_bits(4,0,1)', 'conditions': [], 'values': ['quantized_bits(4,0,1)', 'quantized_bits(8,3,1)', 'quantized_po2(4,8)'], 'ordered': False}\n",
            "activation_output_activation_quantizer (Choice)\n",
            "{'default': 'binary', 'conditions': [], 'values': ['binary', 'ternary', 'quantized_relu_po2(4,4)', 'quantized_relu(3,1)', 'quantized_relu(4,2)'], 'ordered': False}\n",
            "network_filters_output (Choice)\n",
            "{'default': 1.0, 'conditions': [], 'values': [0.5, 0.75, 1.0, 1.5, 2.0], 'ordered': True}\n",
            "output_bias_quantizer (Choice)\n",
            "{'default': 'quantized_bits(4,0,1)', 'conditions': [], 'values': ['quantized_bits(4,0,1)', 'quantized_bits(8,3,1)', 'quantized_po2(4,8)'], 'ordered': False}\n",
            "learning_rate: 0.0010000000474974513\n",
            "Model: \"sequential\"\n",
            "_________________________________________________________________\n",
            " Layer (type)                Output Shape              Param #   \n",
            "=================================================================\n",
            " norm (BatchNormalization)   (None, 30)                120       \n",
            "                                                                 \n",
            " input_layer (QDense)        (None, 100)               3100      \n",
            "                                                                 \n",
            " activation_0 (QActivation)  (None, 100)               0         \n",
            "                                                                 \n",
            " fc0 (QDense)                (None, 150)               15150     \n",
            "                                                                 \n",
            " activation_1 (QActivation)  (None, 150)               0         \n",
            "                                                                 \n",
            " fc1 (QDense)                (None, 200)               30200     \n",
            "                                                                 \n",
            " activation_2 (QActivation)  (None, 200)               0         \n",
            "                                                                 \n",
            " fc2 (QDense)                (None, 200)               40200     \n",
            "                                                                 \n",
            " activation_output (QActivat  (None, 200)              0         \n",
            " ion)                                                            \n",
            "                                                                 \n",
            " output (QDense)             (None, 1)                 201       \n",
            "                                                                 \n",
            " sigmoid (Activation)        (None, 1)                 0         \n",
            "                                                                 \n",
            "=================================================================\n",
            "Total params: 88,971\n",
            "Trainable params: 88,911\n",
            "Non-trainable params: 60\n",
            "_________________________________________________________________\n",
            "stats: delta_p=0.08 delta_n=0.08 rate=2.0 trial_size=7134 reference_size=30040\n",
            "       delta=16.59%\n",
            "Total Cost Reduction:\n",
            "       7134 vs 30040 (-76.25%)\n",
            "norm                 is normal keras bn layer\n",
            "input_layer          u=100 stochastic_binary(alpha='auto_po2') quantized_po2(4,8) \n",
            "activation_0         binary\n",
            "fc0                  u=150 binary(alpha='auto_po2') quantized_bits(4,0,1) \n",
            "activation_1         quantized_relu_po2(4,4)\n",
            "fc1                  u=200 quantized_bits(8,0,1,alpha=1.0) quantized_bits(4,0,1) \n",
            "activation_2         binary\n",
            "fc2                  u=200 quantized_bits(2,1,1,alpha=1.0) quantized_bits(4,0,1) \n",
            "activation_output    quantized_relu(4,2)\n",
            "output               u=1 stochastic_binary(alpha='auto_po2') quantized_bits(8,3,1) \n",
            "\n",
            "learning_rate: 0.0010000000474974513\n",
            "Model: \"sequential\"\n",
            "_________________________________________________________________\n",
            " Layer (type)                Output Shape              Param #   \n",
            "=================================================================\n",
            " norm (BatchNormalization)   (None, 30)                120       \n",
            "                                                                 \n",
            " input_layer (QDense)        (None, 50)                1550      \n",
            "                                                                 \n",
            " activation_0 (QActivation)  (None, 50)                0         \n",
            "                                                                 \n",
            " fc0 (QDense)                (None, 50)                2550      \n",
            "                                                                 \n",
            " activation_1 (QActivation)  (None, 50)                0         \n",
            "                                                                 \n",
            " fc1 (QDense)                (None, 50)                2550      \n",
            "                                                                 \n",
            " activation_2 (QActivation)  (None, 50)                0         \n",
            "                                                                 \n",
            " fc2 (QDense)                (None, 150)               7650      \n",
            "                                                                 \n",
            " activation_output (QActivat  (None, 150)              0         \n",
            " ion)                                                            \n",
            "                                                                 \n",
            " output (QDense)             (None, 1)                 151       \n",
            "                                                                 \n",
            " sigmoid (Activation)        (None, 1)                 0         \n",
            "                                                                 \n",
            "=================================================================\n",
            "Total params: 14,571\n",
            "Trainable params: 14,511\n",
            "Non-trainable params: 60\n",
            "_________________________________________________________________\n",
            "stats: delta_p=0.08 delta_n=0.08 rate=2.0 trial_size=1298 reference_size=30040\n",
            "       delta=36.26%\n",
            "Total Cost Reduction:\n",
            "       1298 vs 30040 (-95.68%)\n",
            "norm                 is normal keras bn layer\n",
            "input_layer          u=50 quantized_po2(4,1) quantized_bits(4,0,1) \n",
            "activation_0         quantized_relu(3,1)\n",
            "fc0                  u=50 ternary(alpha='auto_po2') quantized_bits(4,0,1) \n",
            "activation_1         quantized_relu_po2(4,4)\n",
            "fc1                  u=50 quantized_po2(4,1) quantized_bits(8,3,1) \n",
            "activation_2         quantized_relu(4,2)\n",
            "fc2                  u=150 quantized_po2(4,1) quantized_bits(8,3,1) \n",
            "activation_output    quantized_relu_po2(4,4)\n",
            "output               u=1 quantized_bits(8,0,1,alpha=1.0) quantized_bits(4,0,1) \n",
            "\n",
            "learning_rate: 0.0010000000474974513\n",
            "Model: \"sequential\"\n",
            "_________________________________________________________________\n",
            " Layer (type)                Output Shape              Param #   \n",
            "=================================================================\n",
            " norm (BatchNormalization)   (None, 30)                120       \n",
            "                                                                 \n",
            " input_layer (QDense)        (None, 75)                2325      \n",
            "                                                                 \n",
            " activation_0 (QActivation)  (None, 75)                0         \n",
            "                                                                 \n",
            " fc0 (QDense)                (None, 150)               11400     \n",
            "                                                                 \n",
            " activation_1 (QActivation)  (None, 150)               0         \n",
            "                                                                 \n",
            " fc1 (QDense)                (None, 50)                7550      \n",
            "                                                                 \n",
            " activation_2 (QActivation)  (None, 50)                0         \n",
            "                                                                 \n",
            " fc2 (QDense)                (None, 200)               10200     \n",
            "                                                                 \n",
            " activation_output (QActivat  (None, 200)              0         \n",
            " ion)                                                            \n",
            "                                                                 \n",
            " output (QDense)             (None, 1)                 201       \n",
            "                                                                 \n",
            " sigmoid (Activation)        (None, 1)                 0         \n",
            "                                                                 \n",
            "=================================================================\n",
            "Total params: 31,796\n",
            "Trainable params: 31,736\n",
            "Non-trainable params: 60\n",
            "_________________________________________________________________\n",
            "stats: delta_p=0.08 delta_n=0.08 rate=2.0 trial_size=2398 reference_size=30040\n",
            "       delta=29.18%\n",
            "Total Cost Reduction:\n",
            "       2398 vs 30040 (-92.02%)\n",
            "norm                 is normal keras bn layer\n",
            "input_layer          u=75 quantized_bits(2,1,1,alpha=1.0) quantized_bits(4,0,1) \n",
            "activation_0         ternary\n",
            "fc0                  u=150 quantized_po2(4,1) quantized_bits(4,0,1) \n",
            "activation_1         ternary\n",
            "fc1                  u=50 ternary(alpha='auto_po2') quantized_bits(8,3,1) \n",
            "activation_2         quantized_relu(3,1)\n",
            "fc2                  u=200 quantized_po2(4,1) quantized_po2(4,8) \n",
            "activation_output    quantized_relu_po2(4,4)\n",
            "output               u=1 quantized_bits(2,1,1,alpha=1.0) quantized_bits(8,3,1) \n",
            "\n"
          ]
        }
      ],
      "source": [
        "\"\"\"\n",
        "apply AutoQKeras and fine tune your model.\n",
        "\"\"\"\n",
        "custom_objects = {}\n",
        "autoqk = AutoQKeras(model, metrics=[\"acc\"], custom_objects=custom_objects, **run_config)\n",
        "autoqk.fit(X_train, Y_train, validation_split=0.20, batch_size=128, epochs=1, verbose=0) # 20"
      ]
    },
    {
      "cell_type": "code",
      "execution_count": null,
      "metadata": {
        "colab": {
          "base_uri": "https://localhost:8080/"
        },
        "id": "nu-buNcRor-b",
        "outputId": "544ea51e-3004-4ede-a80a-d78320b66250"
      },
      "outputs": [
        {
          "name": "stdout",
          "output_type": "stream",
          "text": [
            "learning_rate: 0.0010000000474974513\n",
            "Model: \"sequential\"\n",
            "_________________________________________________________________\n",
            " Layer (type)                Output Shape              Param #   \n",
            "=================================================================\n",
            " norm (BatchNormalization)   (None, 30)                120       \n",
            "                                                                 \n",
            " input_layer (QDense)        (None, 50)                1550      \n",
            "                                                                 \n",
            " activation_0 (QActivation)  (None, 50)                0         \n",
            "                                                                 \n",
            " fc0 (QDense)                (None, 50)                2550      \n",
            "                                                                 \n",
            " activation_1 (QActivation)  (None, 50)                0         \n",
            "                                                                 \n",
            " fc1 (QDense)                (None, 50)                2550      \n",
            "                                                                 \n",
            " activation_2 (QActivation)  (None, 50)                0         \n",
            "                                                                 \n",
            " fc2 (QDense)                (None, 150)               7650      \n",
            "                                                                 \n",
            " activation_output (QActivat  (None, 150)              0         \n",
            " ion)                                                            \n",
            "                                                                 \n",
            " output (QDense)             (None, 1)                 151       \n",
            "                                                                 \n",
            " sigmoid (Activation)        (None, 1)                 0         \n",
            "                                                                 \n",
            "=================================================================\n",
            "Total params: 14,571\n",
            "Trainable params: 14,511\n",
            "Non-trainable params: 60\n",
            "_________________________________________________________________\n",
            "stats: delta_p=0.08 delta_n=0.08 rate=2.0 trial_size=1298 reference_size=30040\n",
            "       delta=36.26%\n",
            "Total Cost Reduction:\n",
            "       1298 vs 30040 (-95.68%)\n",
            "norm                 is normal keras bn layer\n",
            "input_layer          u=50 quantized_po2(4,1) quantized_bits(4,0,1) \n",
            "activation_0         quantized_relu(3,1)\n",
            "fc0                  u=50 ternary(alpha='auto_po2') quantized_bits(4,0,1) \n",
            "activation_1         quantized_relu_po2(4,4)\n",
            "fc1                  u=50 quantized_po2(4,1) quantized_bits(8,3,1) \n",
            "activation_2         quantized_relu(4,2)\n",
            "fc2                  u=150 quantized_po2(4,1) quantized_bits(8,3,1) \n",
            "activation_output    quantized_relu_po2(4,4)\n",
            "output               u=1 quantized_bits(8,0,1,alpha=1.0) quantized_bits(4,0,1) \n",
            "\n"
          ]
        }
      ],
      "source": [
        "qmodel = autoqk.get_best_model()\n"
      ]
    },
    {
      "cell_type": "markdown",
      "metadata": {
        "id": "pzul-vBcor-b"
      },
      "source": [
        "The code above should give out a report, showing how much more light weight the function made your model to be.\n",
        "\n",
        "To verify it ourselves, let's print the total number of trainable parameters for our model vs their qmodel."
      ]
    },
    {
      "cell_type": "code",
      "execution_count": null,
      "metadata": {
        "colab": {
          "base_uri": "https://localhost:8080/"
        },
        "id": "fG9zyfLaor-b",
        "outputId": "8dfdeed4-d58a-460e-8734-5af605b27704"
      },
      "outputs": [
        {
          "name": "stdout",
          "output_type": "stream",
          "text": [
            "model number of trainable parameters: 33561\n",
            "qmodel number of trainable parameters: 14511\n"
          ]
        }
      ],
      "source": [
        "import tensorflow.keras.backend as K\n",
        "\n",
        "trainable_count = np.sum([K.count_params(w) for w in model.trainable_weights])\n",
        "print(f\"model number of trainable parameters: {trainable_count}\")\n",
        "trainable_count = np.sum([K.count_params(w) for w in qmodel.trainable_weights])\n",
        "print(f\"qmodel number of trainable parameters: {trainable_count}\")"
      ]
    },
    {
      "cell_type": "code",
      "execution_count": null,
      "metadata": {
        "colab": {
          "base_uri": "https://localhost:8080/"
        },
        "id": "MgjTgD_Gor-d",
        "outputId": "d232f199-9574-41f7-8300-fef7d1996e97"
      },
      "outputs": [
        {
          "name": "stderr",
          "output_type": "stream",
          "text": [
            "/usr/local/lib/python3.7/dist-packages/keras/optimizers/optimizer_v2/adam.py:110: UserWarning: The `lr` argument is deprecated, use `learning_rate` instead.\n",
            "  super(Adam, self).__init__(name, **kwargs)\n"
          ]
        },
        {
          "data": {
            "text/plain": [
              "<keras.callbacks.History at 0x7f1118558790>"
            ]
          },
          "execution_count": 33,
          "metadata": {},
          "output_type": "execute_result"
        }
      ],
      "source": [
        "\"\"\" \n",
        "need to train it all over again\n",
        "\"\"\" \n",
        "adam = Adam(lr=0.001)\n",
        "qmodel.compile(optimizer=adam, loss=['binary_crossentropy'])\n",
        "\n",
        "qmodel.fit(X_train, Y_train, batch_size=64,\n",
        "            epochs=30, validation_split=0.20, shuffle=True, verbose=0\n",
        ") # fit makes batchnorm to be in training mode"
      ]
    },
    {
      "attachments": {},
      "cell_type": "markdown",
      "metadata": {
        "id": "it4D1Agcq5ua"
      },
      "source": [
        "**Part 2: Plot the ROC curve for qmodel, like we have done so with our normal model**"
      ]
    },
    {
      "cell_type": "code",
      "execution_count": null,
      "metadata": {
        "colab": {
          "base_uri": "https://localhost:8080/",
          "height": 314
        },
        "id": "hkzKRgL0S6r3",
        "outputId": "16bc07ba-1c24-4d2d-b54a-310aad51822c"
      },
      "outputs": [
        {
          "name": "stdout",
          "output_type": "stream",
          "text": [
            "426/426 [==============================] - 3s 4ms/step\n",
            "426/426 [==============================] - 2s 4ms/step\n"
          ]
        },
        {
          "data": {
            "image/png": "[encoded data removed]",
            "text/plain": [
              "<Figure size 432x288 with 1 Axes>"
            ]
          },
          "metadata": {
            "needs_background": "light"
          },
          "output_type": "display_data"
        }
      ],
      "source": [
        "X_hls_test = np.ascontiguousarray(X_test)\n",
        "fpr, tpr, _ = metrics.roc_curve(Y_test, qmodel.predict(X_hls_test))\n",
        "auc = metrics.roc_auc_score(Y_test, qmodel.predict(X_hls_test))\n",
        "  \n",
        "\n",
        "#create ROC curve\n",
        "plt.plot(fpr,tpr,label=\"AUC=\"+str(auc))\n",
        "plt.ylabel('True Positive Rate')\n",
        "plt.xlabel('False Positive Rate')\n",
        "plt.legend(loc=4)\n",
        "plt.show()"
      ]
    },
    {
      "attachments": {},
      "cell_type": "markdown",
      "metadata": {
        "id": "zR7CGlMfor-d"
      },
      "source": [
        "Printing the model's summary and find the difference with the former model.\n",
        "\n",
        "Manually define a new model that fits qmodel's parameters, and load the trained qmodel weights into it."
      ]
    },
    {
      "cell_type": "code",
      "execution_count": null,
      "metadata": {
        "colab": {
          "base_uri": "https://localhost:8080/"
        },
        "id": "36Nwk_6qor-b",
        "outputId": "7e6b239f-a75d-41f0-8077-023058eeb8ae"
      },
      "outputs": [
        {
          "name": "stdout",
          "output_type": "stream",
          "text": [
            "Model: \"sequential_2\"\n",
            "_________________________________________________________________\n",
            " Layer (type)                Output Shape              Param #   \n",
            "=================================================================\n",
            " norm (BatchNormalization)   (None, 30)                120       \n",
            "                                                                 \n",
            " input_layer (QDense)        (None, 50)                1550      \n",
            "                                                                 \n",
            " activation_0 (QActivation)  (None, 50)                0         \n",
            "                                                                 \n",
            " fc0 (QDense)                (None, 50)                2550      \n",
            "                                                                 \n",
            " activation_1 (QActivation)  (None, 50)                0         \n",
            "                                                                 \n",
            " fc1 (QDense)                (None, 50)                2550      \n",
            "                                                                 \n",
            " activation_2 (QActivation)  (None, 50)                0         \n",
            "                                                                 \n",
            " fc2 (QDense)                (None, 150)               7650      \n",
            "                                                                 \n",
            " activation_output (QActivat  (None, 150)              0         \n",
            " ion)                                                            \n",
            "                                                                 \n",
            " output (QDense)             (None, 1)                 151       \n",
            "                                                                 \n",
            " sigmoid (Activation)        (None, 1)                 0         \n",
            "                                                                 \n",
            "=================================================================\n",
            "Total params: 14,571\n",
            "Trainable params: 14,511\n",
            "Non-trainable params: 60\n",
            "_________________________________________________________________\n",
            "None\n"
          ]
        }
      ],
      "source": [
        "qmodel.predict(X_test, verbose = 0)\n",
        "print(qmodel.summary())"
      ]
    },
    {
      "cell_type": "code",
      "execution_count": null,
      "metadata": {
        "id": "Od3GZTrCWfMX"
      },
      "outputs": [],
      "source": [
        "qmodel.weights;"
      ]
    },
    {
      "attachments": {},
      "cell_type": "markdown",
      "metadata": {
        "id": "i6OoTBf8o-lX"
      },
      "source": [
        "**Part 3: Using the output of the model summary, write new code that defines a keras tensorflow model with the matching parameters and define that new model as \"new_model\" in your code.**"
      ]
    },
    {
      "cell_type": "code",
      "execution_count": null,
      "metadata": {
        "id": "hf9rYApIUapn"
      },
      "outputs": [],
      "source": [
        "input_dim = X_train.shape[-1]\n",
        "hidden_dim = 100\n",
        "n_hidden_layers = 2\n",
        "\n",
        "new_model = Sequential()\n",
        "new_model.add(BatchNormalization(input_shape=(input_dim,), name='norm'))\n",
        "new_model.add(Dense(50, name='input_layer', kernel_regularizer=l2(0.0001)))\n",
        "\n",
        "for idx in range(n_hidden_layers): # hidden layers\n",
        "    new_model.add(Activation(activation=\"relu\", name=f'activation_{idx}'))\n",
        "    new_model.add(Dense(50, name=f'fc{idx}', kernel_regularizer=l2(0.0001)))\n",
        "\n",
        "new_model.add(Activation(activation=\"relu\", name=f'activation_{2}'))    \n",
        "new_model.add(Dense(150, name=f'fc{2}', kernel_regularizer=l2(0.0001)))\n",
        "\n",
        "new_model.add(Activation(activation=\"relu\", name=f'activation_output'))\n",
        "new_model.add(Dense(1, name='output', kernel_regularizer=l2(0.0001)))\n",
        "\n",
        "new_model.add(Activation(activation='sigmoid', name='sigmoid'))"
      ]
    },
    {
      "cell_type": "code",
      "execution_count": null,
      "metadata": {
        "colab": {
          "base_uri": "https://localhost:8080/"
        },
        "id": "aLHTZSM4V3R7",
        "outputId": "12a93ae9-3b53-4540-f3c3-6fb5c53da0b8"
      },
      "outputs": [
        {
          "name": "stdout",
          "output_type": "stream",
          "text": [
            "Model: \"sequential_1\"\n",
            "_________________________________________________________________\n",
            " Layer (type)                Output Shape              Param #   \n",
            "=================================================================\n",
            " norm (BatchNormalization)   (None, 30)                120       \n",
            "                                                                 \n",
            " input_layer (Dense)         (None, 50)                1550      \n",
            "                                                                 \n",
            " activation_0 (Activation)   (None, 50)                0         \n",
            "                                                                 \n",
            " fc0 (Dense)                 (None, 50)                2550      \n",
            "                                                                 \n",
            " activation_1 (Activation)   (None, 50)                0         \n",
            "                                                                 \n",
            " fc1 (Dense)                 (None, 50)                2550      \n",
            "                                                                 \n",
            " activation_2 (Activation)   (None, 50)                0         \n",
            "                                                                 \n",
            " fc2 (Dense)                 (None, 150)               7650      \n",
            "                                                                 \n",
            " activation_output (Activati  (None, 150)              0         \n",
            " on)                                                             \n",
            "                                                                 \n",
            " output (Dense)              (None, 1)                 151       \n",
            "                                                                 \n",
            " sigmoid (Activation)        (None, 1)                 0         \n",
            "                                                                 \n",
            "=================================================================\n",
            "Total params: 14,571\n",
            "Trainable params: 14,511\n",
            "Non-trainable params: 60\n",
            "_________________________________________________________________\n",
            "None\n"
          ]
        }
      ],
      "source": [
        "print(new_model.summary())"
      ]
    },
    {
      "attachments": {},
      "cell_type": "markdown",
      "metadata": {
        "id": "Wg6yw41xor-e"
      },
      "source": [
        "Load the saved qmodel weights and do the bitwidth searches again."
      ]
    },
    {
      "cell_type": "code",
      "execution_count": null,
      "metadata": {
        "id": "PxJTFbCcor-e"
      },
      "outputs": [],
      "source": [
        "# new_model.load_weights(\"qmodel.h5\")\n",
        "new_model.set_weights(qmodel.weights)"
      ]
    },
    {
      "attachments": {},
      "cell_type": "markdown",
      "metadata": {
        "id": "KfCeUghoO-32"
      },
      "source": [
        "**Part 4: Take the new model and do the same PTQ as we did in the previous cells. Plot the integer bitwidth and fractional bitwidth for original model and qmodel together and compare any differences.**"
      ]
    },
    {
      "cell_type": "code",
      "execution_count": null,
      "metadata": {
        "colab": {
          "base_uri": "https://localhost:8080/"
        },
        "id": "x8pdysJQXDAO",
        "outputId": "b191c24e-b238-41b9-a72d-ebe17905eca3"
      },
      "outputs": [
        {
          "name": "stderr",
          "output_type": "stream",
          "text": [
            "WARNING:tensorflow:Compiled the loaded model, but the compiled metrics have yet to be built. `model.compile_metrics` will be empty until you train or evaluate the model.\n"
          ]
        },
        {
          "name": "stdout",
          "output_type": "stream",
          "text": [
            "Interpreting Sequential\n",
            "Topology:\n",
            "Layer name: norm_input, layer type: Input\n",
            "Layer name: norm, layer type: BatchNormalization\n",
            "Layer name: input_layer, layer type: Dense\n",
            "  -> Activation (linear), layer name: input_layer\n",
            "Layer name: activation_0, layer type: Activation\n",
            "Layer name: fc0, layer type: Dense\n",
            "  -> Activation (linear), layer name: fc0\n",
            "Layer name: activation_1, layer type: Activation\n",
            "Layer name: fc1, layer type: Dense\n",
            "  -> Activation (linear), layer name: fc1\n",
            "Layer name: activation_2, layer type: Activation\n",
            "Layer name: fc2, layer type: Dense\n",
            "  -> Activation (linear), layer name: fc2\n",
            "Layer name: activation_output, layer type: Activation\n",
            "Layer name: output, layer type: Dense\n",
            "  -> Activation (linear), layer name: output\n",
            "Layer name: sigmoid, layer type: Activation\n",
            "Interpreting Sequential\n",
            "Topology:\n",
            "Layer name: norm_input, layer type: InputLayer, input shapes: [[None, 30]], output shape: [None, 30]\n",
            "Layer name: norm, layer type: BatchNormalization, input shapes: [[None, 30]], output shape: [None, 30]\n",
            "Layer name: input_layer, layer type: Dense, input shapes: [[None, 30]], output shape: [None, 50]\n",
            "Layer name: activation_0, layer type: Activation, input shapes: [[None, 50]], output shape: [None, 50]\n",
            "Layer name: fc0, layer type: Dense, input shapes: [[None, 50]], output shape: [None, 50]\n",
            "Layer name: activation_1, layer type: Activation, input shapes: [[None, 50]], output shape: [None, 50]\n",
            "Layer name: fc1, layer type: Dense, input shapes: [[None, 50]], output shape: [None, 50]\n",
            "Layer name: activation_2, layer type: Activation, input shapes: [[None, 50]], output shape: [None, 50]\n",
            "Layer name: fc2, layer type: Dense, input shapes: [[None, 50]], output shape: [None, 150]\n",
            "Layer name: activation_output, layer type: Activation, input shapes: [[None, 150]], output shape: [None, 150]\n",
            "Layer name: output, layer type: Dense, input shapes: [[None, 150]], output shape: [None, 1]\n",
            "Layer name: sigmoid, layer type: Activation, input shapes: [[None, 1]], output shape: [None, 1]\n",
            "Creating HLS model\n",
            "Writing HLS project\n",
            "Done\n"
          ]
        },
        {
          "name": "stderr",
          "output_type": "stream",
          "text": [
            "WARNING:tensorflow:Compiled the loaded model, but the compiled metrics have yet to be built. `model.compile_metrics` will be empty until you train or evaluate the model.\n"
          ]
        },
        {
          "name": "stdout",
          "output_type": "stream",
          "text": [
            "Interpreting Sequential\n",
            "Topology:\n",
            "Layer name: norm_input, layer type: Input\n",
            "Layer name: norm, layer type: BatchNormalization\n",
            "Layer name: input_layer, layer type: Dense\n",
            "  -> Activation (linear), layer name: input_layer\n",
            "Layer name: activation_0, layer type: Activation\n",
            "Layer name: fc0, layer type: Dense\n",
            "  -> Activation (linear), layer name: fc0\n",
            "Layer name: activation_1, layer type: Activation\n",
            "Layer name: fc1, layer type: Dense\n",
            "  -> Activation (linear), layer name: fc1\n",
            "Layer name: activation_2, layer type: Activation\n",
            "Layer name: fc2, layer type: Dense\n",
            "  -> Activation (linear), layer name: fc2\n",
            "Layer name: activation_output, layer type: Activation\n",
            "Layer name: output, layer type: Dense\n",
            "  -> Activation (linear), layer name: output\n",
            "Layer name: sigmoid, layer type: Activation\n",
            "Interpreting Sequential\n",
            "Topology:\n",
            "Layer name: norm_input, layer type: InputLayer, input shapes: [[None, 30]], output shape: [None, 30]\n",
            "Layer name: norm, layer type: BatchNormalization, input shapes: [[None, 30]], output shape: [None, 30]\n",
            "Layer name: input_layer, layer type: Dense, input shapes: [[None, 30]], output shape: [None, 50]\n",
            "Layer name: activation_0, layer type: Activation, input shapes: [[None, 50]], output shape: [None, 50]\n",
            "Layer name: fc0, layer type: Dense, input shapes: [[None, 50]], output shape: [None, 50]\n",
            "Layer name: activation_1, layer type: Activation, input shapes: [[None, 50]], output shape: [None, 50]\n",
            "Layer name: fc1, layer type: Dense, input shapes: [[None, 50]], output shape: [None, 50]\n",
            "Layer name: activation_2, layer type: Activation, input shapes: [[None, 50]], output shape: [None, 50]\n",
            "Layer name: fc2, layer type: Dense, input shapes: [[None, 50]], output shape: [None, 150]\n",
            "Layer name: activation_output, layer type: Activation, input shapes: [[None, 150]], output shape: [None, 150]\n",
            "Layer name: output, layer type: Dense, input shapes: [[None, 150]], output shape: [None, 1]\n",
            "Layer name: sigmoid, layer type: Activation, input shapes: [[None, 1]], output shape: [None, 1]\n",
            "Creating HLS model\n",
            "Writing HLS project\n",
            "Done\n"
          ]
        },
        {
          "name": "stderr",
          "output_type": "stream",
          "text": [
            "WARNING:tensorflow:Compiled the loaded model, but the compiled metrics have yet to be built. `model.compile_metrics` will be empty until you train or evaluate the model.\n"
          ]
        },
        {
          "name": "stdout",
          "output_type": "stream",
          "text": [
            "Interpreting Sequential\n",
            "Topology:\n",
            "Layer name: norm_input, layer type: Input\n",
            "Layer name: norm, layer type: BatchNormalization\n",
            "Layer name: input_layer, layer type: Dense\n",
            "  -> Activation (linear), layer name: input_layer\n",
            "Layer name: activation_0, layer type: Activation\n",
            "Layer name: fc0, layer type: Dense\n",
            "  -> Activation (linear), layer name: fc0\n",
            "Layer name: activation_1, layer type: Activation\n",
            "Layer name: fc1, layer type: Dense\n",
            "  -> Activation (linear), layer name: fc1\n",
            "Layer name: activation_2, layer type: Activation\n",
            "Layer name: fc2, layer type: Dense\n",
            "  -> Activation (linear), layer name: fc2\n",
            "Layer name: activation_output, layer type: Activation\n",
            "Layer name: output, layer type: Dense\n",
            "  -> Activation (linear), layer name: output\n",
            "Layer name: sigmoid, layer type: Activation\n",
            "Interpreting Sequential\n",
            "Topology:\n",
            "Layer name: norm_input, layer type: InputLayer, input shapes: [[None, 30]], output shape: [None, 30]\n",
            "Layer name: norm, layer type: BatchNormalization, input shapes: [[None, 30]], output shape: [None, 30]\n",
            "Layer name: input_layer, layer type: Dense, input shapes: [[None, 30]], output shape: [None, 50]\n",
            "Layer name: activation_0, layer type: Activation, input shapes: [[None, 50]], output shape: [None, 50]\n",
            "Layer name: fc0, layer type: Dense, input shapes: [[None, 50]], output shape: [None, 50]\n",
            "Layer name: activation_1, layer type: Activation, input shapes: [[None, 50]], output shape: [None, 50]\n",
            "Layer name: fc1, layer type: Dense, input shapes: [[None, 50]], output shape: [None, 50]\n",
            "Layer name: activation_2, layer type: Activation, input shapes: [[None, 50]], output shape: [None, 50]\n",
            "Layer name: fc2, layer type: Dense, input shapes: [[None, 50]], output shape: [None, 150]\n",
            "Layer name: activation_output, layer type: Activation, input shapes: [[None, 150]], output shape: [None, 150]\n",
            "Layer name: output, layer type: Dense, input shapes: [[None, 150]], output shape: [None, 1]\n",
            "Layer name: sigmoid, layer type: Activation, input shapes: [[None, 1]], output shape: [None, 1]\n",
            "Creating HLS model\n",
            "Writing HLS project\n",
            "Done\n"
          ]
        },
        {
          "name": "stderr",
          "output_type": "stream",
          "text": [
            "WARNING:tensorflow:Compiled the loaded model, but the compiled metrics have yet to be built. `model.compile_metrics` will be empty until you train or evaluate the model.\n"
          ]
        },
        {
          "name": "stdout",
          "output_type": "stream",
          "text": [
            "Interpreting Sequential\n",
            "Topology:\n",
            "Layer name: norm_input, layer type: Input\n",
            "Layer name: norm, layer type: BatchNormalization\n",
            "Layer name: input_layer, layer type: Dense\n",
            "  -> Activation (linear), layer name: input_layer\n",
            "Layer name: activation_0, layer type: Activation\n",
            "Layer name: fc0, layer type: Dense\n",
            "  -> Activation (linear), layer name: fc0\n",
            "Layer name: activation_1, layer type: Activation\n",
            "Layer name: fc1, layer type: Dense\n",
            "  -> Activation (linear), layer name: fc1\n",
            "Layer name: activation_2, layer type: Activation\n",
            "Layer name: fc2, layer type: Dense\n",
            "  -> Activation (linear), layer name: fc2\n",
            "Layer name: activation_output, layer type: Activation\n",
            "Layer name: output, layer type: Dense\n",
            "  -> Activation (linear), layer name: output\n",
            "Layer name: sigmoid, layer type: Activation\n",
            "Interpreting Sequential\n",
            "Topology:\n",
            "Layer name: norm_input, layer type: InputLayer, input shapes: [[None, 30]], output shape: [None, 30]\n",
            "Layer name: norm, layer type: BatchNormalization, input shapes: [[None, 30]], output shape: [None, 30]\n",
            "Layer name: input_layer, layer type: Dense, input shapes: [[None, 30]], output shape: [None, 50]\n",
            "Layer name: activation_0, layer type: Activation, input shapes: [[None, 50]], output shape: [None, 50]\n",
            "Layer name: fc0, layer type: Dense, input shapes: [[None, 50]], output shape: [None, 50]\n",
            "Layer name: activation_1, layer type: Activation, input shapes: [[None, 50]], output shape: [None, 50]\n",
            "Layer name: fc1, layer type: Dense, input shapes: [[None, 50]], output shape: [None, 50]\n",
            "Layer name: activation_2, layer type: Activation, input shapes: [[None, 50]], output shape: [None, 50]\n",
            "Layer name: fc2, layer type: Dense, input shapes: [[None, 50]], output shape: [None, 150]\n",
            "Layer name: activation_output, layer type: Activation, input shapes: [[None, 150]], output shape: [None, 150]\n",
            "Layer name: output, layer type: Dense, input shapes: [[None, 150]], output shape: [None, 1]\n",
            "Layer name: sigmoid, layer type: Activation, input shapes: [[None, 1]], output shape: [None, 1]\n",
            "Creating HLS model\n",
            "Writing HLS project\n",
            "Done\n"
          ]
        },
        {
          "name": "stderr",
          "output_type": "stream",
          "text": [
            "WARNING:tensorflow:Compiled the loaded model, but the compiled metrics have yet to be built. `model.compile_metrics` will be empty until you train or evaluate the model.\n"
          ]
        },
        {
          "name": "stdout",
          "output_type": "stream",
          "text": [
            "Interpreting Sequential\n",
            "Topology:\n",
            "Layer name: norm_input, layer type: Input\n",
            "Layer name: norm, layer type: BatchNormalization\n",
            "Layer name: input_layer, layer type: Dense\n",
            "  -> Activation (linear), layer name: input_layer\n",
            "Layer name: activation_0, layer type: Activation\n",
            "Layer name: fc0, layer type: Dense\n",
            "  -> Activation (linear), layer name: fc0\n",
            "Layer name: activation_1, layer type: Activation\n",
            "Layer name: fc1, layer type: Dense\n",
            "  -> Activation (linear), layer name: fc1\n",
            "Layer name: activation_2, layer type: Activation\n",
            "Layer name: fc2, layer type: Dense\n",
            "  -> Activation (linear), layer name: fc2\n",
            "Layer name: activation_output, layer type: Activation\n",
            "Layer name: output, layer type: Dense\n",
            "  -> Activation (linear), layer name: output\n",
            "Layer name: sigmoid, layer type: Activation\n",
            "Interpreting Sequential\n",
            "Topology:\n",
            "Layer name: norm_input, layer type: InputLayer, input shapes: [[None, 30]], output shape: [None, 30]\n",
            "Layer name: norm, layer type: BatchNormalization, input shapes: [[None, 30]], output shape: [None, 30]\n",
            "Layer name: input_layer, layer type: Dense, input shapes: [[None, 30]], output shape: [None, 50]\n",
            "Layer name: activation_0, layer type: Activation, input shapes: [[None, 50]], output shape: [None, 50]\n",
            "Layer name: fc0, layer type: Dense, input shapes: [[None, 50]], output shape: [None, 50]\n",
            "Layer name: activation_1, layer type: Activation, input shapes: [[None, 50]], output shape: [None, 50]\n",
            "Layer name: fc1, layer type: Dense, input shapes: [[None, 50]], output shape: [None, 50]\n",
            "Layer name: activation_2, layer type: Activation, input shapes: [[None, 50]], output shape: [None, 50]\n",
            "Layer name: fc2, layer type: Dense, input shapes: [[None, 50]], output shape: [None, 150]\n",
            "Layer name: activation_output, layer type: Activation, input shapes: [[None, 150]], output shape: [None, 150]\n",
            "Layer name: output, layer type: Dense, input shapes: [[None, 150]], output shape: [None, 1]\n",
            "Layer name: sigmoid, layer type: Activation, input shapes: [[None, 1]], output shape: [None, 1]\n",
            "Creating HLS model\n",
            "Writing HLS project\n",
            "Done\n"
          ]
        }
      ],
      "source": [
        "\"\"\"\n",
        "Parameter search over integer bits. Fractional bits frozen at 20    \n",
        "\"\"\"\n",
        "fract_bit = 20\n",
        "aurocs_int = []\n",
        "ap_fixed_configs_int = []\n",
        "\n",
        "for int_bit in range(10,15,1):\n",
        "    total_bit = int_bit + fract_bit\n",
        "    ap_fixed_config = f\"ap_fixed<{total_bit},{int_bit}>\"\n",
        "    config = hls4ml.utils.config_from_keras_model(new_model,\n",
        "                                        default_precision=ap_fixed_config,\n",
        "                                        granularity='model'\n",
        "    )\n",
        "    hls_model = hls4ml.converters.convert_from_keras_model(new_model,\n",
        "                                                        hls_config=config,\n",
        "                                                        output_dir='model_1/hls4ml_prj',\n",
        "                                                        part='xcu250-figd2104-2L-e'\n",
        "    )\n",
        "    hls_model.compile()\n",
        "    X_hls_test = np.ascontiguousarray(X_test)\n",
        "    auc = metrics.roc_auc_score(Y_test, hls_model.predict(X_hls_test))\n",
        "    aurocs_int.append(auc)\n",
        "    ap_fixed_configs_int.append(f\"<{total_bit},{int_bit}>\")\n",
        "    \n"
      ]
    },
    {
      "cell_type": "code",
      "execution_count": null,
      "metadata": {
        "colab": {
          "base_uri": "https://localhost:8080/",
          "height": 282
        },
        "id": "NLA9GeRLXjOm",
        "outputId": "f8751197-f510-4d85-c12f-aa1709f63656"
      },
      "outputs": [
        {
          "data": {
            "text/plain": [
              "<matplotlib.collections.PathCollection at 0x7f1117e51e50>"
            ]
          },
          "execution_count": 47,
          "metadata": {},
          "output_type": "execute_result"
        },
        {
          "data": {
            "image/png": "[encoded data removed]",
            "text/plain": [
              "<Figure size 432x288 with 1 Axes>"
            ]
          },
          "metadata": {
            "needs_background": "light"
          },
          "output_type": "display_data"
        }
      ],
      "source": [
        "plt.scatter(ap_fixed_configs_int, aurocs_int)"
      ]
    },
    {
      "cell_type": "markdown",
      "metadata": {
        "id": "jufVH8qPXzv0"
      },
      "source": [
        "# The above result looks similar to the original model, integer bits = 14 looks good"
      ]
    },
    {
      "cell_type": "code",
      "execution_count": null,
      "metadata": {
        "colab": {
          "base_uri": "https://localhost:8080/"
        },
        "id": "7WYx1rU8Xsnx",
        "outputId": "f9861059-c43a-4078-f158-64f7e219c420"
      },
      "outputs": [
        {
          "name": "stderr",
          "output_type": "stream",
          "text": [
            "WARNING:tensorflow:Compiled the loaded model, but the compiled metrics have yet to be built. `model.compile_metrics` will be empty until you train or evaluate the model.\n"
          ]
        },
        {
          "name": "stdout",
          "output_type": "stream",
          "text": [
            "Interpreting Sequential\n",
            "Topology:\n",
            "Layer name: norm_input, layer type: Input\n",
            "Layer name: norm, layer type: BatchNormalization\n",
            "Layer name: input_layer, layer type: Dense\n",
            "  -> Activation (linear), layer name: input_layer\n",
            "Layer name: activation_0, layer type: Activation\n",
            "Layer name: fc0, layer type: Dense\n",
            "  -> Activation (linear), layer name: fc0\n",
            "Layer name: activation_1, layer type: Activation\n",
            "Layer name: fc1, layer type: Dense\n",
            "  -> Activation (linear), layer name: fc1\n",
            "Layer name: activation_2, layer type: Activation\n",
            "Layer name: fc2, layer type: Dense\n",
            "  -> Activation (linear), layer name: fc2\n",
            "Layer name: activation_output, layer type: Activation\n",
            "Layer name: output, layer type: Dense\n",
            "  -> Activation (linear), layer name: output\n",
            "Layer name: sigmoid, layer type: Activation\n",
            "Interpreting Sequential\n",
            "Topology:\n",
            "Layer name: norm_input, layer type: InputLayer, input shapes: [[None, 30]], output shape: [None, 30]\n",
            "Layer name: norm, layer type: BatchNormalization, input shapes: [[None, 30]], output shape: [None, 30]\n",
            "Layer name: input_layer, layer type: Dense, input shapes: [[None, 30]], output shape: [None, 50]\n",
            "Layer name: activation_0, layer type: Activation, input shapes: [[None, 50]], output shape: [None, 50]\n",
            "Layer name: fc0, layer type: Dense, input shapes: [[None, 50]], output shape: [None, 50]\n",
            "Layer name: activation_1, layer type: Activation, input shapes: [[None, 50]], output shape: [None, 50]\n",
            "Layer name: fc1, layer type: Dense, input shapes: [[None, 50]], output shape: [None, 50]\n",
            "Layer name: activation_2, layer type: Activation, input shapes: [[None, 50]], output shape: [None, 50]\n",
            "Layer name: fc2, layer type: Dense, input shapes: [[None, 50]], output shape: [None, 150]\n",
            "Layer name: activation_output, layer type: Activation, input shapes: [[None, 150]], output shape: [None, 150]\n",
            "Layer name: output, layer type: Dense, input shapes: [[None, 150]], output shape: [None, 1]\n",
            "Layer name: sigmoid, layer type: Activation, input shapes: [[None, 1]], output shape: [None, 1]\n",
            "Creating HLS model\n",
            "Writing HLS project\n",
            "Done\n"
          ]
        },
        {
          "name": "stderr",
          "output_type": "stream",
          "text": [
            "WARNING:tensorflow:Compiled the loaded model, but the compiled metrics have yet to be built. `model.compile_metrics` will be empty until you train or evaluate the model.\n"
          ]
        },
        {
          "name": "stdout",
          "output_type": "stream",
          "text": [
            "Interpreting Sequential\n",
            "Topology:\n",
            "Layer name: norm_input, layer type: Input\n",
            "Layer name: norm, layer type: BatchNormalization\n",
            "Layer name: input_layer, layer type: Dense\n",
            "  -> Activation (linear), layer name: input_layer\n",
            "Layer name: activation_0, layer type: Activation\n",
            "Layer name: fc0, layer type: Dense\n",
            "  -> Activation (linear), layer name: fc0\n",
            "Layer name: activation_1, layer type: Activation\n",
            "Layer name: fc1, layer type: Dense\n",
            "  -> Activation (linear), layer name: fc1\n",
            "Layer name: activation_2, layer type: Activation\n",
            "Layer name: fc2, layer type: Dense\n",
            "  -> Activation (linear), layer name: fc2\n",
            "Layer name: activation_output, layer type: Activation\n",
            "Layer name: output, layer type: Dense\n",
            "  -> Activation (linear), layer name: output\n",
            "Layer name: sigmoid, layer type: Activation\n",
            "Interpreting Sequential\n",
            "Topology:\n",
            "Layer name: norm_input, layer type: InputLayer, input shapes: [[None, 30]], output shape: [None, 30]\n",
            "Layer name: norm, layer type: BatchNormalization, input shapes: [[None, 30]], output shape: [None, 30]\n",
            "Layer name: input_layer, layer type: Dense, input shapes: [[None, 30]], output shape: [None, 50]\n",
            "Layer name: activation_0, layer type: Activation, input shapes: [[None, 50]], output shape: [None, 50]\n",
            "Layer name: fc0, layer type: Dense, input shapes: [[None, 50]], output shape: [None, 50]\n",
            "Layer name: activation_1, layer type: Activation, input shapes: [[None, 50]], output shape: [None, 50]\n",
            "Layer name: fc1, layer type: Dense, input shapes: [[None, 50]], output shape: [None, 50]\n",
            "Layer name: activation_2, layer type: Activation, input shapes: [[None, 50]], output shape: [None, 50]\n",
            "Layer name: fc2, layer type: Dense, input shapes: [[None, 50]], output shape: [None, 150]\n",
            "Layer name: activation_output, layer type: Activation, input shapes: [[None, 150]], output shape: [None, 150]\n",
            "Layer name: output, layer type: Dense, input shapes: [[None, 150]], output shape: [None, 1]\n",
            "Layer name: sigmoid, layer type: Activation, input shapes: [[None, 1]], output shape: [None, 1]\n",
            "Creating HLS model\n",
            "Writing HLS project\n",
            "Done\n"
          ]
        },
        {
          "name": "stderr",
          "output_type": "stream",
          "text": [
            "WARNING:tensorflow:Compiled the loaded model, but the compiled metrics have yet to be built. `model.compile_metrics` will be empty until you train or evaluate the model.\n"
          ]
        },
        {
          "name": "stdout",
          "output_type": "stream",
          "text": [
            "Interpreting Sequential\n",
            "Topology:\n",
            "Layer name: norm_input, layer type: Input\n",
            "Layer name: norm, layer type: BatchNormalization\n",
            "Layer name: input_layer, layer type: Dense\n",
            "  -> Activation (linear), layer name: input_layer\n",
            "Layer name: activation_0, layer type: Activation\n",
            "Layer name: fc0, layer type: Dense\n",
            "  -> Activation (linear), layer name: fc0\n",
            "Layer name: activation_1, layer type: Activation\n",
            "Layer name: fc1, layer type: Dense\n",
            "  -> Activation (linear), layer name: fc1\n",
            "Layer name: activation_2, layer type: Activation\n",
            "Layer name: fc2, layer type: Dense\n",
            "  -> Activation (linear), layer name: fc2\n",
            "Layer name: activation_output, layer type: Activation\n",
            "Layer name: output, layer type: Dense\n",
            "  -> Activation (linear), layer name: output\n",
            "Layer name: sigmoid, layer type: Activation\n",
            "Interpreting Sequential\n",
            "Topology:\n",
            "Layer name: norm_input, layer type: InputLayer, input shapes: [[None, 30]], output shape: [None, 30]\n",
            "Layer name: norm, layer type: BatchNormalization, input shapes: [[None, 30]], output shape: [None, 30]\n",
            "Layer name: input_layer, layer type: Dense, input shapes: [[None, 30]], output shape: [None, 50]\n",
            "Layer name: activation_0, layer type: Activation, input shapes: [[None, 50]], output shape: [None, 50]\n",
            "Layer name: fc0, layer type: Dense, input shapes: [[None, 50]], output shape: [None, 50]\n",
            "Layer name: activation_1, layer type: Activation, input shapes: [[None, 50]], output shape: [None, 50]\n",
            "Layer name: fc1, layer type: Dense, input shapes: [[None, 50]], output shape: [None, 50]\n",
            "Layer name: activation_2, layer type: Activation, input shapes: [[None, 50]], output shape: [None, 50]\n",
            "Layer name: fc2, layer type: Dense, input shapes: [[None, 50]], output shape: [None, 150]\n",
            "Layer name: activation_output, layer type: Activation, input shapes: [[None, 150]], output shape: [None, 150]\n",
            "Layer name: output, layer type: Dense, input shapes: [[None, 150]], output shape: [None, 1]\n",
            "Layer name: sigmoid, layer type: Activation, input shapes: [[None, 1]], output shape: [None, 1]\n",
            "Creating HLS model\n",
            "Writing HLS project\n",
            "Done\n"
          ]
        },
        {
          "name": "stderr",
          "output_type": "stream",
          "text": [
            "WARNING:tensorflow:Compiled the loaded model, but the compiled metrics have yet to be built. `model.compile_metrics` will be empty until you train or evaluate the model.\n"
          ]
        },
        {
          "name": "stdout",
          "output_type": "stream",
          "text": [
            "Interpreting Sequential\n",
            "Topology:\n",
            "Layer name: norm_input, layer type: Input\n",
            "Layer name: norm, layer type: BatchNormalization\n",
            "Layer name: input_layer, layer type: Dense\n",
            "  -> Activation (linear), layer name: input_layer\n",
            "Layer name: activation_0, layer type: Activation\n",
            "Layer name: fc0, layer type: Dense\n",
            "  -> Activation (linear), layer name: fc0\n",
            "Layer name: activation_1, layer type: Activation\n",
            "Layer name: fc1, layer type: Dense\n",
            "  -> Activation (linear), layer name: fc1\n",
            "Layer name: activation_2, layer type: Activation\n",
            "Layer name: fc2, layer type: Dense\n",
            "  -> Activation (linear), layer name: fc2\n",
            "Layer name: activation_output, layer type: Activation\n",
            "Layer name: output, layer type: Dense\n",
            "  -> Activation (linear), layer name: output\n",
            "Layer name: sigmoid, layer type: Activation\n",
            "Interpreting Sequential\n",
            "Topology:\n",
            "Layer name: norm_input, layer type: InputLayer, input shapes: [[None, 30]], output shape: [None, 30]\n",
            "Layer name: norm, layer type: BatchNormalization, input shapes: [[None, 30]], output shape: [None, 30]\n",
            "Layer name: input_layer, layer type: Dense, input shapes: [[None, 30]], output shape: [None, 50]\n",
            "Layer name: activation_0, layer type: Activation, input shapes: [[None, 50]], output shape: [None, 50]\n",
            "Layer name: fc0, layer type: Dense, input shapes: [[None, 50]], output shape: [None, 50]\n",
            "Layer name: activation_1, layer type: Activation, input shapes: [[None, 50]], output shape: [None, 50]\n",
            "Layer name: fc1, layer type: Dense, input shapes: [[None, 50]], output shape: [None, 50]\n",
            "Layer name: activation_2, layer type: Activation, input shapes: [[None, 50]], output shape: [None, 50]\n",
            "Layer name: fc2, layer type: Dense, input shapes: [[None, 50]], output shape: [None, 150]\n",
            "Layer name: activation_output, layer type: Activation, input shapes: [[None, 150]], output shape: [None, 150]\n",
            "Layer name: output, layer type: Dense, input shapes: [[None, 150]], output shape: [None, 1]\n",
            "Layer name: sigmoid, layer type: Activation, input shapes: [[None, 1]], output shape: [None, 1]\n",
            "Creating HLS model\n",
            "Writing HLS project\n",
            "Done\n"
          ]
        },
        {
          "name": "stderr",
          "output_type": "stream",
          "text": [
            "WARNING:tensorflow:Compiled the loaded model, but the compiled metrics have yet to be built. `model.compile_metrics` will be empty until you train or evaluate the model.\n"
          ]
        },
        {
          "name": "stdout",
          "output_type": "stream",
          "text": [
            "Interpreting Sequential\n",
            "Topology:\n",
            "Layer name: norm_input, layer type: Input\n",
            "Layer name: norm, layer type: BatchNormalization\n",
            "Layer name: input_layer, layer type: Dense\n",
            "  -> Activation (linear), layer name: input_layer\n",
            "Layer name: activation_0, layer type: Activation\n",
            "Layer name: fc0, layer type: Dense\n",
            "  -> Activation (linear), layer name: fc0\n",
            "Layer name: activation_1, layer type: Activation\n",
            "Layer name: fc1, layer type: Dense\n",
            "  -> Activation (linear), layer name: fc1\n",
            "Layer name: activation_2, layer type: Activation\n",
            "Layer name: fc2, layer type: Dense\n",
            "  -> Activation (linear), layer name: fc2\n",
            "Layer name: activation_output, layer type: Activation\n",
            "Layer name: output, layer type: Dense\n",
            "  -> Activation (linear), layer name: output\n",
            "Layer name: sigmoid, layer type: Activation\n",
            "Interpreting Sequential\n",
            "Topology:\n",
            "Layer name: norm_input, layer type: InputLayer, input shapes: [[None, 30]], output shape: [None, 30]\n",
            "Layer name: norm, layer type: BatchNormalization, input shapes: [[None, 30]], output shape: [None, 30]\n",
            "Layer name: input_layer, layer type: Dense, input shapes: [[None, 30]], output shape: [None, 50]\n",
            "Layer name: activation_0, layer type: Activation, input shapes: [[None, 50]], output shape: [None, 50]\n",
            "Layer name: fc0, layer type: Dense, input shapes: [[None, 50]], output shape: [None, 50]\n",
            "Layer name: activation_1, layer type: Activation, input shapes: [[None, 50]], output shape: [None, 50]\n",
            "Layer name: fc1, layer type: Dense, input shapes: [[None, 50]], output shape: [None, 50]\n",
            "Layer name: activation_2, layer type: Activation, input shapes: [[None, 50]], output shape: [None, 50]\n",
            "Layer name: fc2, layer type: Dense, input shapes: [[None, 50]], output shape: [None, 150]\n",
            "Layer name: activation_output, layer type: Activation, input shapes: [[None, 150]], output shape: [None, 150]\n",
            "Layer name: output, layer type: Dense, input shapes: [[None, 150]], output shape: [None, 1]\n",
            "Layer name: sigmoid, layer type: Activation, input shapes: [[None, 1]], output shape: [None, 1]\n",
            "Creating HLS model\n",
            "Writing HLS project\n",
            "Done\n"
          ]
        }
      ],
      "source": [
        "\"\"\"\n",
        "Parameter search over fractional bits. Integer bits frozen at 14    \n",
        "\"\"\"\n",
        "int_bit = 14\n",
        "aurocs_fract = []\n",
        "ap_fixed_configs_fract = []\n",
        "\n",
        "for fract_bit in range(8,13,1):\n",
        "    total_bit = int_bit + fract_bit\n",
        "    ap_fixed_config = f\"ap_fixed<{total_bit},{int_bit}>\"\n",
        "    config = hls4ml.utils.config_from_keras_model(new_model,\n",
        "                                        default_precision=ap_fixed_config,\n",
        "                                        granularity='model'\n",
        "    )\n",
        "    hls_model = hls4ml.converters.convert_from_keras_model(new_model,\n",
        "                                                        hls_config=config,\n",
        "                                                        output_dir='model_1/hls4ml_prj',\n",
        "                                                        part='xcu250-figd2104-2L-e'\n",
        "    )\n",
        "    hls_model.compile()\n",
        "    X_hls_test = np.ascontiguousarray(X_test)\n",
        "    auc = metrics.roc_auc_score(Y_test, hls_model.predict(X_hls_test))\n",
        "    aurocs_fract.append(auc)\n",
        "    ap_fixed_configs_fract.append(f\"<{total_bit},{int_bit}>\")"
      ]
    },
    {
      "cell_type": "code",
      "execution_count": null,
      "metadata": {
        "colab": {
          "base_uri": "https://localhost:8080/",
          "height": 282
        },
        "id": "tBYQPPE2YI9p",
        "outputId": "b78a7041-fd8a-45c2-cd87-83d275ca7dd6"
      },
      "outputs": [
        {
          "data": {
            "text/plain": [
              "<matplotlib.collections.PathCollection at 0x7f1118069410>"
            ]
          },
          "execution_count": 50,
          "metadata": {},
          "output_type": "execute_result"
        },
        {
          "data": {
            "image/png": "[encoded data removed]",
            "text/plain": [
              "<Figure size 432x288 with 1 Axes>"
            ]
          },
          "metadata": {
            "needs_background": "light"
          },
          "output_type": "display_data"
        }
      ],
      "source": [
        "plt.scatter(ap_fixed_configs_fract, aurocs_fract)"
      ]
    },
    {
      "cell_type": "markdown",
      "metadata": {
        "id": "7XjOswNgYbZ3"
      },
      "source": [
        "# The above result looks similar to the original model, fractional bits = 10 looks good"
      ]
    }
  ],
  "metadata": {
    "colab": {
      "provenance": []
    },
    "kernelspec": {
      "display_name": "phys570",
      "language": "python",
      "name": "python3"
    },
    "language_info": {
      "codemirror_mode": {
        "name": "ipython",
        "version": 3
      },
      "file_extension": ".py",
      "mimetype": "text/x-python",
      "name": "python",
      "nbconvert_exporter": "python",
      "pygments_lexer": "ipython3",
      "version": "3.8.13"
    },
    "orig_nbformat": 4,
    "vscode": {
      "interpreter": {
        "hash": "a489657ec4e2ca9a9aa797c6a27e5902f6db5e31c07e678269cde286985ed180"
      }
    }
  },
  "nbformat": 4,
  "nbformat_minor": 0
}
